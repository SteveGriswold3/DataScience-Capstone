{
 "cells": [
  {
   "cell_type": "code",
   "execution_count": null,
   "metadata": {},
   "outputs": [],
   "source": []
  },
  {
   "cell_type": "code",
   "execution_count": null,
   "metadata": {},
   "outputs": [],
   "source": [
    "HTML_templates = ''"
   ]
  },
  {
   "cell_type": "code",
   "execution_count": null,
   "metadata": {},
   "outputs": [],
   "source": [
    "with open(\"dashboard/fraud_result.html\", \"r\") as f:\n",
    "        txt_fraud_result = f.readlines()"
   ]
  },
  {
   "cell_type": "code",
   "execution_count": null,
   "metadata": {},
   "outputs": [],
   "source": [
    "NEW_HTML = []\n",
    "for x in txt_fraud_result:\n",
    "    if x == '          <p>****Fraud Statement HERE****</p>\\n':\n",
    "        x = '          <p>'+ page +'</p>\\n'\n",
    "\n",
    "    if x == '                        <p>****Fraud Record Data HERE****</p>\\n':\n",
    "        page = ''\n",
    "        for k, v in raw_data['data'][0].items():\n",
    "            page += str(k) + ': ' + str(v) + '<br>'\n",
    "        x = '          <p>'+ page +'</p>\\n'\n",
    "\n",
    "    NEW_HTML.append(x)"
   ]
  }
 ],
 "metadata": {
  "kernelspec": {
   "display_name": "Python 3",
   "language": "python",
   "name": "python3"
  },
  "language_info": {
   "codemirror_mode": {
    "name": "ipython",
    "version": 3
   },
   "file_extension": ".py",
   "mimetype": "text/x-python",
   "name": "python",
   "nbconvert_exporter": "python",
   "pygments_lexer": "ipython3",
   "version": "3.6.5"
  }
 },
 "nbformat": 4,
 "nbformat_minor": 2
}
