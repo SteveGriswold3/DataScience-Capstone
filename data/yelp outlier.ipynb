{
 "cells": [
  {
   "cell_type": "code",
   "execution_count": 19,
   "metadata": {},
   "outputs": [],
   "source": [
    "import pandas as pd\n",
    "import numpy as np\n",
    "import pickle\n",
    "import timeit"
   ]
  },
  {
   "cell_type": "code",
   "execution_count": 3,
   "metadata": {},
   "outputs": [],
   "source": [
    "with open('yelp_businesses.pickle', 'rb') as pickleReader:\n",
    "    business_dict = pickle.load(pickleReader)\n",
    "        "
   ]
  },
  {
   "cell_type": "code",
   "execution_count": 8,
   "metadata": {},
   "outputs": [
    {
     "data": {
      "text/plain": [
       "{'latitude': 33.419568, 'longitude': -111.916097}"
      ]
     },
     "execution_count": 8,
     "metadata": {},
     "output_type": "execute_result"
    }
   ],
   "source": [
    "business_dict['JzOp695tclcNCNMuBl7oxA']['coordinates']['latitude']"
   ]
  },
  {
   "cell_type": "code",
   "execution_count": 9,
   "metadata": {},
   "outputs": [
    {
     "data": {
      "text/plain": [
       "33.419568"
      ]
     },
     "execution_count": 9,
     "metadata": {},
     "output_type": "execute_result"
    }
   ],
   "source": [
    "business_dict['JzOp695tclcNCNMuBl7oxA']['coordinates']['latitude']"
   ]
  },
  {
   "cell_type": "code",
   "execution_count": 10,
   "metadata": {},
   "outputs": [
    {
     "data": {
      "text/plain": [
       "-111.916097"
      ]
     },
     "execution_count": 10,
     "metadata": {},
     "output_type": "execute_result"
    }
   ],
   "source": [
    "business_dict['JzOp695tclcNCNMuBl7oxA']['coordinates']['longitude']"
   ]
  },
  {
   "cell_type": "code",
   "execution_count": 65,
   "metadata": {},
   "outputs": [],
   "source": [
    "locations = np.zeros((len(business_dict),2))\n",
    "\n",
    "for ix, k in enumerate(business_dict.keys()):\n",
    "    locations[ix,0] = business_dict[k]['coordinates']['latitude']\n",
    "    locations[ix,1] = business_dict[k]['coordinates']['longitude']\n"
   ]
  },
  {
   "cell_type": "code",
   "execution_count": 94,
   "metadata": {},
   "outputs": [],
   "source": [
    "locations = locations[~np.isnan(locations[:,0])]"
   ]
  },
  {
   "cell_type": "code",
   "execution_count": 23,
   "metadata": {},
   "outputs": [
    {
     "data": {
      "text/plain": [
       "array([[  33.419568  , -111.916097  ],\n",
       "       [  33.4143486 , -111.91303253],\n",
       "       [  33.407997  , -111.887898  ],\n",
       "       [  33.4068413 , -111.9075394 ],\n",
       "       [  33.3937812 , -111.9085823 ],\n",
       "       [  33.40625446, -111.90948013],\n",
       "       [  33.40710155, -111.90966843],\n",
       "       [  33.4276    , -111.89997   ],\n",
       "       [  33.41434   , -111.9127    ],\n",
       "       [  33.415079  , -111.905095  ],\n",
       "       [  33.394965  , -111.909476  ],\n",
       "       [  33.41315   , -111.87577   ],\n",
       "       [  33.421413  , -111.914915  ],\n",
       "       [  33.4140838 , -111.8722964 ],\n",
       "       [  33.394724  , -111.875314  ],\n",
       "       [  33.3946117 , -111.9089851 ],\n",
       "       [  33.394049  , -111.872942  ],\n",
       "       [  33.3765345 , -111.8778341 ],\n",
       "       [  33.3946117 , -111.9089851 ],\n",
       "       [  33.39174   , -111.90839   ]])"
      ]
     },
     "execution_count": 23,
     "metadata": {},
     "output_type": "execute_result"
    }
   ],
   "source": []
  },
  {
   "cell_type": "code",
   "execution_count": null,
   "metadata": {},
   "outputs": [],
   "source": []
  },
  {
   "cell_type": "code",
   "execution_count": 60,
   "metadata": {},
   "outputs": [],
   "source": [
    "locations = locations[~np.isnan(locations)]"
   ]
  },
  {
   "cell_type": "code",
   "execution_count": 57,
   "metadata": {},
   "outputs": [],
   "source": [
    "pd.read_csv?"
   ]
  },
  {
   "cell_type": "code",
   "execution_count": 46,
   "metadata": {},
   "outputs": [],
   "source": [
    "nn = np.ones((len(business_dict),1))"
   ]
  },
  {
   "cell_type": "code",
   "execution_count": null,
   "metadata": {},
   "outputs": [],
   "source": [
    "for ix, r in enumerate(locations):\n",
    "    for cycle in locations:\n",
    "        if set(r) != set(cycle):\n",
    "            dist = euclidean_distances([r], [cycle])\n",
    "            if nn[ix] > dist:\n",
    "                nn[ix] = dist\n",
    "\n",
    "for n in nn:\n",
    "    print(n)"
   ]
  },
  {
   "cell_type": "code",
   "execution_count": 62,
   "metadata": {},
   "outputs": [
    {
     "data": {
      "text/plain": [
       "array([  33.419568 , -111.916097 ,   33.4143486, ..., -118.4150314,\n",
       "         33.334357 , -118.310858 ])"
      ]
     },
     "execution_count": 62,
     "metadata": {},
     "output_type": "execute_result"
    }
   ],
   "source": [
    "locations"
   ]
  },
  {
   "cell_type": "code",
   "execution_count": 29,
   "metadata": {},
   "outputs": [
    {
     "data": {
      "text/plain": [
       "array([[0., 1.],\n",
       "       [1., 0.]])"
      ]
     },
     "execution_count": 29,
     "metadata": {},
     "output_type": "execute_result"
    }
   ],
   "source": [
    "from sklearn.metrics.pairwise import euclidean_distances\n",
    "X = [[0, 1], [1, 1]]\n",
    "# distance between rows of X\n",
    "euclidean_distances(X, X)\n"
   ]
  },
  {
   "cell_type": "code",
   "execution_count": null,
   "metadata": {},
   "outputs": [],
   "source": []
  }
 ],
 "metadata": {
  "kernelspec": {
   "display_name": "Python 3",
   "language": "python",
   "name": "python3"
  },
  "language_info": {
   "codemirror_mode": {
    "name": "ipython",
    "version": 3
   },
   "file_extension": ".py",
   "mimetype": "text/x-python",
   "name": "python",
   "nbconvert_exporter": "python",
   "pygments_lexer": "ipython3",
   "version": "3.6.5"
  }
 },
 "nbformat": 4,
 "nbformat_minor": 2
}
