{
 "cells": [
  {
   "cell_type": "code",
   "execution_count": 2,
   "metadata": {
    "collapsed": true
   },
   "outputs": [
    {
     "name": "stdout",
     "output_type": "stream",
     "text": [
      "['<!DOCTYPE html>\\n', '<html lang=\"en\">\\n', '\\n', '  <head>\\n', '\\n', '    <meta charset=\"utf-8\">\\n', '    <meta http-equiv=\"X-UA-Compatible\" content=\"IE=edge\">\\n', '    <meta name=\"viewport\" content=\"width=device-width, initial-scale=1, shrink-to-fit=no\">\\n', '    <meta name=\"description\" content=\"\">\\n', '    <meta name=\"author\" content=\"\">\\n', '\\n', '    <title>SB Admin - Tables</title>\\n', '\\n', '    <!-- Bootstrap core CSS-->\\n', '    <link href=\"vendor/bootstrap/css/bootstrap.min.css\" rel=\"stylesheet\">\\n', '\\n', '    <!-- Custom fonts for this template-->\\n', '    <link href=\"vendor/fontawesome-free/css/all.min.css\" rel=\"stylesheet\" type=\"text/css\">\\n', '\\n', '    <!-- Page level plugin CSS-->\\n', '    <link href=\"vendor/datatables/dataTables.bootstrap4.css\" rel=\"stylesheet\">\\n', '\\n', '    <!-- Custom styles for this template-->\\n', '    <link href=\"css/sb-admin.css\" rel=\"stylesheet\">\\n', '\\n', '  </head>\\n', '\\n', '  <body id=\"page-top\">\\n', '\\n', '    <nav class=\"navbar navbar-expand navbar-dark bg-dark static-top\">\\n', '      <button class=\"btn btn-link btn-sm text-white order-1 order-sm-0\" id=\"sidebarToggle\" href=\"#\">\\n', '        <i class=\"fas fa-bars\"></i>\\n', '      </button>\\n', '    \\n', '      <a class=\"navbar-brand mr-1\" href=\"index.html\">Steve Griswold | Data Science</a>\\n', '\\n', '\\n', '      <!-- Navbar Search -->\\n', '      <form class=\"d-none d-md-inline-block form-inline ml-auto mr-0 mr-md-3 my-2 my-md-0\">\\n', '        <div class=\"input-group\">\\n', '          <input type=\"text\" class=\"form-control\" placeholder=\"Search for...\" aria-label=\"Search\" aria-describedby=\"basic-addon2\">\\n', '          <div class=\"input-group-append\">\\n', '            <button class=\"btn btn-primary\" type=\"button\">\\n', '              <i class=\"fas fa-search\"></i>\\n', '            </button>\\n', '          </div>\\n', '        </div>\\n', '      </form>\\n', '\\n', '      <!-- Navbar -->\\n', '      <ul class=\"navbar-nav ml-auto ml-md-0\">\\n', '          <li class=\"nav-item mx-1\">\\n', '            <a class=\"nav-link\" href=\"https://github.com/SteveGriswold3/dsi-fraud-detection-case-study/blob/master/overview.md\" id=\"\" role=\"button\" >\\n', '              <i class=\"fas fa-hashtag fa-fw\"></i>\\n', '            </a>\\n', '          </li>\\n', '          <li class=\"nav-item mx-1\">\\n', '            <a class=\"nav-link\" href=\"https://www.linkedin.com/in/steve-griswold-data-scientist\" id=\"\" role=\"button\" >\\n', '              <i class=\"fas fa-phone fa-fw\"></i>\\n', '            </a>\\n', '          </li>  \\n', '          <li class=\"nav-item mx-1\">\\n', '            <a class=\"nav-link\" href=\"#\" id=\"\" role=\"button\" >\\n', '              <i class=\"fas fa-vial fa-fw\"></i>\\n', '            </a>\\n', '          </li>\\n', '          <li class=\"nav-item mx-1 active\">\\n', '            <a class=\"nav-link\" href=\"ping_pong.html\" role=\"button\">\\n', '                <span class=\"badge badge-danger\">3</span>   \\n', '                <i class=\"fas fa-table-tennis fa-fw\"></i>\\n', '            </a>\\n', '          </li>\\n', '          <li class=\"nav-item mx-1\">\\n', '            <a class=\"nav-link\" href=\"donate.html\" role=\"button\">\\n', '              <i class=\"fas fa-donate fa-fw\"></i>\\n', '            </a>\\n', '          </li>\\n', '          <li class=\"nav-item dropdown no-arrow\">\\n', '            <a class=\"nav-link dropdown-toggle\" href=\"#\" id=\"userDropdown\" role=\"button\" data-toggle=\"dropdown\" aria-haspopup=\"true\" aria-expanded=\"false\">\\n', '              <i class=\"fas fa-user-circle fa-fw\"></i>\\n', '            </a>\\n', '            <div class=\"dropdown-menu dropdown-menu-right\" aria-labelledby=\"userDropdown\">\\n', '              <a class=\"dropdown-item\" href=\"#\">Settings</a>\\n', '              <a class=\"dropdown-item\" href=\"#\">Activity Log</a>\\n', '              <div class=\"dropdown-divider\"></div>\\n', '              <h6 class=\"dropdown-header\">Login Screens:</h6>\\n', '              <a class=\"dropdown-item\" href=\"login.html\">Login</a>\\n', '              <a class=\"dropdown-item\" href=\"register.html\">Register</a>\\n', '              <a class=\"dropdown-item\" href=\"forgot-password.html\">Forgot Password</a>\\n', '              <div class=\"dropdown-divider\"></div>\\n', '              <a class=\"dropdown-item\" href=\"#\" data-toggle=\"modal\" data-target=\"#logoutModal\">Logout</a>\\n', '            </div>\\n', '          </li>\\n', '        </ul>\\n', '  \\n', '      </nav>\\n', '\\n', '    <div id=\"wrapper\">\\n', '\\n', '      <!-- Sidebar -->\\n', '      <ul class=\"sidebar navbar-nav\">\\n', '        <li class=\"nav-item\">\\n', '          <a class=\"nav-link\" href=\"index.html\">\\n', '            <i class=\"fas fa-fw fa-tachometer-alt\"></i>\\n', '            <span>Dashboard</span>\\n', '          </a>\\n', '        </li>\\n', '        <li class=\"nav-item dropdown\">\\n', '          <a class=\"nav-link dropdown-toggle\" href=\"#\" id=\"pagesDropdown\" role=\"button\" data-toggle=\"dropdown\" aria-haspopup=\"true\" aria-expanded=\"false\">\\n', '            <i class=\"fas fa-fw fa-folder\"></i>\\n', '            <span>Pages</span>\\n', '          </a>\\n', '          <div class=\"dropdown-menu\" aria-labelledby=\"pagesDropdown\">\\n', '            \\n', '            <h6 class=\"dropdown-header\">Other Pages:</h6>\\n', '            <a class=\"dropdown-item\" href=\"404.html\">404 Page</a>\\n', '            <a class=\"dropdown-item\" href=\"blank.html\">Blank Page</a>\\n', '          </div>\\n', '        </li>\\n', '        <li class=\"nav-item\">\\n', '          <a class=\"nav-link\" href=\"charts.html\">\\n', '            <i class=\"fas fa-fw fa-chart-area\"></i>\\n', '            <span>Charts</span></a>\\n', '        </li>\\n', '        <li class=\"nav-item\">\\n', '          <a class=\"nav-link\" href=\"tables.html\">\\n', '            <i class=\"fas fa-fw fa-table\"></i>\\n', '            <span>Tables</span></a>\\n', '        </li>\\n', '        <li class=\"nav-item\">\\n', '          <a class=\"nav-link\" href=\"confusion_matrix.html\">\\n', '            <i class=\"fas fa-fw fa-table\"></i>\\n', '            <span>Confusion Matrix</span></a>\\n', '        </li>\\n', '      </ul>\\n', '\\n', '      <div id=\"content-wrapper\">\\n', '\\n', '        <div class=\"container-fluid\">\\n', '\\n', '          <!-- Breadcrumbs-->\\n', '          <ol class=\"breadcrumb\">\\n', '            <li class=\"breadcrumb-item\">\\n', '              <a href=\"#\">Dashboard</a>\\n', '            </li>\\n', '            <li class=\"breadcrumb-item active\">Ping Pong</li>\\n', '          </ol>\\n', '\\n', '          <!-- DataTables Example -->\\n', '          <div class=\"card mb-3\">\\n', '            <div class=\"card-header\">\\n', '              <i class=\"fas fa-table\"></i>\\n', '              Ping Pong</div>\\n', '            <div class=\"card-body\">\\n', '              <div class=\"table-responsive\">\\n', '                <table class=\"table table-bordered\" id=\"dataTable\" width=\"100%\" cellspacing=\"0\">\\n', '                  <thead>\\n', '                    <tr>\\n', '                      <th>Date</th>\\n', '                      <th>Player</th>\\n', '                      <th>Game</th>\\n', '                      <th>Singles/Doubles</th>\\n', '                      <th>Player Score</th>\\n', '                      <th>Opponent Score</th>\\n', '                    </tr>\\n', '                  </thead>\\n', '                  <tfoot>\\n', '                    <tr>\\n', '                      <th>Date</th>\\n', '                      <th>Player</th>\\n', '                      <th>Game</th>\\n', '                      <th>Singles/Doubles</th>\\n', '                      <th>Player Score</th>\\n', '                      <th>Opponent Score</th>\\n', '                    </tr>\\n', '                  </tfoot>\\n', '                  <tbody>\\n', '                    {% for date, name, game, single, player, opponent in data %}\\n', '                    <tr>\\n', '                      <td>{{ date }}</td>\\n', '                      <td>{{ name }}</td>\\n', '                      <td>{{ game }}</td>\\n', '                      <td>{{ single }}</td>\\n', '                      <td>{{ player }}</td>\\n', '                      <td>{{ opponent }}</td>\\n', '                    </tr>\\n', '                    {% endfor %}\\n', '                  </tbody>\\n', '                </table>\\n', '              </div>\\n', '            </div>\\n', '            <div class=\"card-footer small text-muted\">Updated August 17 at 9:46 PM</div>\\n', '          </div>\\n', '          <br>\\n', '\\n', '          <p class=\"small text-center text-muted my-5\">\\n', \"            <em>It's the friends you can call up at 4 a.m. that matter...</em>\\n\", '          </p>\\n', '\\n', '        </div>\\n', '        <!-- /.container-fluid -->\\n', '\\n', '        <!-- Sticky Footer -->\\n', '        <footer class=\"sticky-footer\">\\n', '          <div class=\"container my-auto\">\\n', '            <div class=\"copyright text-center my-auto\">\\n', '              <span>Copyright © MacDevRo LLC 2018</span>\\n', '            </div>\\n', '          </div>\\n', '        </footer>\\n', '\\n', '      </div>\\n', '      <!-- /.content-wrapper -->\\n', '\\n', '    </div>\\n', '    <!-- /#wrapper -->\\n', '\\n', '    <!-- Scroll to Top Button-->\\n', '    <a class=\"scroll-to-top rounded\" href=\"#page-top\">\\n', '      <i class=\"fas fa-angle-up\"></i>\\n', '    </a>\\n', '\\n', '    <!-- Logout Modal-->\\n', '    <div class=\"modal fade\" id=\"logoutModal\" tabindex=\"-1\" role=\"dialog\" aria-labelledby=\"exampleModalLabel\" aria-hidden=\"true\">\\n', '      <div class=\"modal-dialog\" role=\"document\">\\n', '        <div class=\"modal-content\">\\n', '          <div class=\"modal-header\">\\n', '            <h5 class=\"modal-title\" id=\"exampleModalLabel\">Ready to Leave?</h5>\\n', '            <button class=\"close\" type=\"button\" data-dismiss=\"modal\" aria-label=\"Close\">\\n', '              <span aria-hidden=\"true\">×</span>\\n', '            </button>\\n', '          </div>\\n', '          <div class=\"modal-body\">Select \"Logout\" below if you are ready to end your current session.</div>\\n', '          <div class=\"modal-footer\">\\n', '            <button class=\"btn btn-secondary\" type=\"button\" data-dismiss=\"modal\">Cancel</button>\\n', '            <a class=\"btn btn-primary\" href=\"login.html\">Logout</a>\\n', '          </div>\\n', '        </div>\\n', '      </div>\\n', '    </div>\\n', '\\n', '    <!-- Bootstrap core JavaScript-->\\n', '    <script src=\"vendor/jquery/jquery.min.js\"></script>\\n', '    <script src=\"vendor/bootstrap/js/bootstrap.bundle.min.js\"></script>\\n', '\\n', '    <!-- Core plugin JavaScript-->\\n', '    <script src=\"vendor/jquery-easing/jquery.easing.min.js\"></script>\\n', '\\n', '    <!-- Page level plugin JavaScript-->\\n', '    <script src=\"vendor/datatables/jquery.dataTables.js\"></script>\\n', '    <script src=\"vendor/datatables/dataTables.bootstrap4.js\"></script>\\n', '\\n', '    <!-- Custom scripts for all pages-->\\n', '    <script src=\"js/sb-admin.min.js\"></script>\\n', '\\n', '    <!-- Demo scripts for this page-->\\n', '    <script src=\"js/demo/datatables-demo.js\"></script>\\n', '\\n', '  </body>\\n', '\\n', '</html>\\n']\n"
     ]
    }
   ],
   "source": [
    "with open('../../web/templates/ping_pong.html') as f:\n",
    "    print(f.readlines())"
   ]
  },
  {
   "cell_type": "code",
   "execution_count": null,
   "metadata": {},
   "outputs": [],
   "source": [
    "'../../web/templates/ping_pong.html'"
   ]
  },
  {
   "cell_type": "code",
   "execution_count": 5,
   "metadata": {},
   "outputs": [],
   "source": [
    "from flask import Flask, request, render_template\n",
    "import pandas as pd"
   ]
  },
  {
   "cell_type": "code",
   "execution_count": 33,
   "metadata": {},
   "outputs": [],
   "source": [
    "pd.read_csv?"
   ]
  },
  {
   "cell_type": "code",
   "execution_count": 31,
   "metadata": {},
   "outputs": [
    {
     "name": "stdout",
     "output_type": "stream",
     "text": [
      "LICENSE                \u001b[1m\u001b[34mdashboard\u001b[m\u001b[m              \u001b[1m\u001b[34mweb\u001b[m\u001b[m\r\n",
      "README.md              \u001b[1m\u001b[34mdata\u001b[m\u001b[m                   yelp_businesses.pickle\r\n",
      "Yelp_scraping.py       loc_list.txt\r\n",
      "\u001b[1m\u001b[34m__pycache__\u001b[m\u001b[m            \u001b[1m\u001b[34msrc\u001b[m\u001b[m\r\n"
     ]
    }
   ],
   "source": [
    "!ls ../../"
   ]
  },
  {
   "cell_type": "code",
   "execution_count": 37,
   "metadata": {},
   "outputs": [],
   "source": [
    "df = pd.read_csv('../../data/ping_pong.txt', delimiter='\\t')"
   ]
  },
  {
   "cell_type": "code",
   "execution_count": 54,
   "metadata": {},
   "outputs": [],
   "source": [
    "df = df[['date', 'name', 'game', 'single', 'player', 'opponent']]"
   ]
  },
  {
   "cell_type": "code",
   "execution_count": 56,
   "metadata": {},
   "outputs": [
    {
     "data": {
      "text/plain": [
       "9"
      ]
     },
     "execution_count": 56,
     "metadata": {},
     "output_type": "execute_result"
    }
   ],
   "source": [
    "len(df['date'])"
   ]
  },
  {
   "cell_type": "code",
   "execution_count": 80,
   "metadata": {},
   "outputs": [
    {
     "name": "stderr",
     "output_type": "stream",
     "text": [
      "/anaconda3/lib/python3.6/site-packages/ipykernel_launcher.py:1: SettingWithCopyWarning: \n",
      "A value is trying to be set on a copy of a slice from a DataFrame\n",
      "\n",
      "See the caveats in the documentation: http://pandas.pydata.org/pandas-docs/stable/indexing.html#indexing-view-versus-copy\n",
      "  \"\"\"Entry point for launching an IPython kernel.\n"
     ]
    }
   ],
   "source": [
    "df.loc[len(df['date'])] = ['8/21/18','Steve', 5, 'Singles', 21, 17]"
   ]
  },
  {
   "cell_type": "code",
   "execution_count": 82,
   "metadata": {},
   "outputs": [
    {
     "name": "stderr",
     "output_type": "stream",
     "text": [
      "/anaconda3/lib/python3.6/site-packages/pandas/core/indexing.py:189: SettingWithCopyWarning: \n",
      "A value is trying to be set on a copy of a slice from a DataFrame\n",
      "\n",
      "See the caveats in the documentation: http://pandas.pydata.org/pandas-docs/stable/indexing.html#indexing-view-versus-copy\n",
      "  self._setitem_with_indexer(indexer, value)\n",
      "/anaconda3/lib/python3.6/site-packages/ipykernel_launcher.py:1: SettingWithCopyWarning: \n",
      "A value is trying to be set on a copy of a slice from a DataFrame\n",
      "\n",
      "See the caveats in the documentation: http://pandas.pydata.org/pandas-docs/stable/indexing.html#indexing-view-versus-copy\n",
      "  \"\"\"Entry point for launching an IPython kernel.\n"
     ]
    }
   ],
   "source": [
    "df.loc[17] = ['8/21/18','Paul', 5, 'Singles', 17, 21]"
   ]
  },
  {
   "cell_type": "code",
   "execution_count": 83,
   "metadata": {},
   "outputs": [
    {
     "data": {
      "text/html": [
       "<div>\n",
       "<style scoped>\n",
       "    .dataframe tbody tr th:only-of-type {\n",
       "        vertical-align: middle;\n",
       "    }\n",
       "\n",
       "    .dataframe tbody tr th {\n",
       "        vertical-align: top;\n",
       "    }\n",
       "\n",
       "    .dataframe thead th {\n",
       "        text-align: right;\n",
       "    }\n",
       "</style>\n",
       "<table border=\"1\" class=\"dataframe\">\n",
       "  <thead>\n",
       "    <tr style=\"text-align: right;\">\n",
       "      <th></th>\n",
       "      <th>date</th>\n",
       "      <th>name</th>\n",
       "      <th>game</th>\n",
       "      <th>single</th>\n",
       "      <th>player</th>\n",
       "      <th>opponent</th>\n",
       "    </tr>\n",
       "  </thead>\n",
       "  <tbody>\n",
       "    <tr>\n",
       "      <th>0</th>\n",
       "      <td>8/17/18</td>\n",
       "      <td>Paul</td>\n",
       "      <td>1</td>\n",
       "      <td>Singles</td>\n",
       "      <td>21</td>\n",
       "      <td>11</td>\n",
       "    </tr>\n",
       "    <tr>\n",
       "      <th>1</th>\n",
       "      <td>8/17/18</td>\n",
       "      <td>Steve</td>\n",
       "      <td>1</td>\n",
       "      <td>Singles</td>\n",
       "      <td>11</td>\n",
       "      <td>21</td>\n",
       "    </tr>\n",
       "    <tr>\n",
       "      <th>2</th>\n",
       "      <td>8/17/18</td>\n",
       "      <td>Paul</td>\n",
       "      <td>2</td>\n",
       "      <td>Singles</td>\n",
       "      <td>21</td>\n",
       "      <td>23</td>\n",
       "    </tr>\n",
       "    <tr>\n",
       "      <th>3</th>\n",
       "      <td>8/17/18</td>\n",
       "      <td>Steve</td>\n",
       "      <td>2</td>\n",
       "      <td>Singles</td>\n",
       "      <td>23</td>\n",
       "      <td>21</td>\n",
       "    </tr>\n",
       "    <tr>\n",
       "      <th>4</th>\n",
       "      <td>8/20/18</td>\n",
       "      <td>Paul</td>\n",
       "      <td>1</td>\n",
       "      <td>Singles</td>\n",
       "      <td>8</td>\n",
       "      <td>21</td>\n",
       "    </tr>\n",
       "    <tr>\n",
       "      <th>5</th>\n",
       "      <td>8/20/18</td>\n",
       "      <td>Steve</td>\n",
       "      <td>1</td>\n",
       "      <td>Singles</td>\n",
       "      <td>21</td>\n",
       "      <td>8</td>\n",
       "    </tr>\n",
       "    <tr>\n",
       "      <th>6</th>\n",
       "      <td>8/20/18</td>\n",
       "      <td>Paul</td>\n",
       "      <td>2</td>\n",
       "      <td>Singles</td>\n",
       "      <td>21</td>\n",
       "      <td>19</td>\n",
       "    </tr>\n",
       "    <tr>\n",
       "      <th>7</th>\n",
       "      <td>8/20/18</td>\n",
       "      <td>Steve</td>\n",
       "      <td>2</td>\n",
       "      <td>Singles</td>\n",
       "      <td>17</td>\n",
       "      <td>21</td>\n",
       "    </tr>\n",
       "    <tr>\n",
       "      <th>8</th>\n",
       "      <td>8/20/18</td>\n",
       "      <td>Paul</td>\n",
       "      <td>3</td>\n",
       "      <td>Singles</td>\n",
       "      <td>21</td>\n",
       "      <td>19</td>\n",
       "    </tr>\n",
       "    <tr>\n",
       "      <th>9</th>\n",
       "      <td>8/21/18</td>\n",
       "      <td>Paul</td>\n",
       "      <td>1</td>\n",
       "      <td>Singles</td>\n",
       "      <td>17</td>\n",
       "      <td>21</td>\n",
       "    </tr>\n",
       "    <tr>\n",
       "      <th>10</th>\n",
       "      <td>8/21/18</td>\n",
       "      <td>Steve</td>\n",
       "      <td>1</td>\n",
       "      <td>Singles</td>\n",
       "      <td>21</td>\n",
       "      <td>17</td>\n",
       "    </tr>\n",
       "    <tr>\n",
       "      <th>11</th>\n",
       "      <td>8/21/18</td>\n",
       "      <td>Paul</td>\n",
       "      <td>2</td>\n",
       "      <td>Singles</td>\n",
       "      <td>21</td>\n",
       "      <td>16</td>\n",
       "    </tr>\n",
       "    <tr>\n",
       "      <th>12</th>\n",
       "      <td>8/21/18</td>\n",
       "      <td>Steve</td>\n",
       "      <td>2</td>\n",
       "      <td>Singles</td>\n",
       "      <td>16</td>\n",
       "      <td>21</td>\n",
       "    </tr>\n",
       "    <tr>\n",
       "      <th>13</th>\n",
       "      <td>8/21/18</td>\n",
       "      <td>Paul</td>\n",
       "      <td>3</td>\n",
       "      <td>Singles</td>\n",
       "      <td>19</td>\n",
       "      <td>21</td>\n",
       "    </tr>\n",
       "    <tr>\n",
       "      <th>14</th>\n",
       "      <td>8/21/18</td>\n",
       "      <td>Steve</td>\n",
       "      <td>3</td>\n",
       "      <td>Singles</td>\n",
       "      <td>21</td>\n",
       "      <td>19</td>\n",
       "    </tr>\n",
       "    <tr>\n",
       "      <th>15</th>\n",
       "      <td>8/21/18</td>\n",
       "      <td>Paul</td>\n",
       "      <td>4</td>\n",
       "      <td>Singles</td>\n",
       "      <td>21</td>\n",
       "      <td>17</td>\n",
       "    </tr>\n",
       "    <tr>\n",
       "      <th>16</th>\n",
       "      <td>8/21/18</td>\n",
       "      <td>Steve</td>\n",
       "      <td>4</td>\n",
       "      <td>Singles</td>\n",
       "      <td>17</td>\n",
       "      <td>21</td>\n",
       "    </tr>\n",
       "    <tr>\n",
       "      <th>17</th>\n",
       "      <td>8/21/18</td>\n",
       "      <td>Paul</td>\n",
       "      <td>5</td>\n",
       "      <td>Singles</td>\n",
       "      <td>17</td>\n",
       "      <td>21</td>\n",
       "    </tr>\n",
       "    <tr>\n",
       "      <th>18</th>\n",
       "      <td>8/21/18</td>\n",
       "      <td>Steve</td>\n",
       "      <td>5</td>\n",
       "      <td>Singles</td>\n",
       "      <td>21</td>\n",
       "      <td>17</td>\n",
       "    </tr>\n",
       "  </tbody>\n",
       "</table>\n",
       "</div>"
      ],
      "text/plain": [
       "       date   name game   single player opponent\n",
       "0   8/17/18   Paul    1  Singles     21       11\n",
       "1   8/17/18  Steve    1  Singles     11       21\n",
       "2   8/17/18   Paul    2  Singles     21       23\n",
       "3   8/17/18  Steve    2  Singles     23       21\n",
       "4   8/20/18   Paul    1  Singles      8       21\n",
       "5   8/20/18  Steve    1  Singles     21        8\n",
       "6   8/20/18   Paul    2  Singles     21       19\n",
       "7   8/20/18  Steve    2  Singles     17       21\n",
       "8   8/20/18   Paul    3  Singles     21       19\n",
       "9   8/21/18   Paul    1  Singles     17       21\n",
       "10  8/21/18  Steve    1  Singles     21       17\n",
       "11  8/21/18   Paul    2  Singles     21       16\n",
       "12  8/21/18  Steve    2  Singles     16       21\n",
       "13  8/21/18   Paul    3  Singles     19       21\n",
       "14  8/21/18  Steve    3  Singles     21       19\n",
       "15  8/21/18   Paul    4  Singles     21       17\n",
       "16  8/21/18  Steve    4  Singles     17       21\n",
       "17  8/21/18   Paul    5  Singles     17       21\n",
       "18  8/21/18  Steve    5  Singles     21       17"
      ]
     },
     "execution_count": 83,
     "metadata": {},
     "output_type": "execute_result"
    }
   ],
   "source": [
    "df"
   ]
  },
  {
   "cell_type": "code",
   "execution_count": 84,
   "metadata": {},
   "outputs": [],
   "source": [
    "df.to_csv('../../data/ping_pong.txt', sep='\\t', index=False)"
   ]
  },
  {
   "cell_type": "code",
   "execution_count": null,
   "metadata": {},
   "outputs": [],
   "source": []
  }
 ],
 "metadata": {
  "kernelspec": {
   "display_name": "Python 3",
   "language": "python",
   "name": "python3"
  },
  "language_info": {
   "codemirror_mode": {
    "name": "ipython",
    "version": 3
   },
   "file_extension": ".py",
   "mimetype": "text/x-python",
   "name": "python",
   "nbconvert_exporter": "python",
   "pygments_lexer": "ipython3",
   "version": "3.6.5"
  }
 },
 "nbformat": 4,
 "nbformat_minor": 2
}
