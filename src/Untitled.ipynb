{
 "cells": [
  {
   "cell_type": "code",
   "execution_count": 1,
   "metadata": {},
   "outputs": [],
   "source": [
    "import os"
   ]
  },
  {
   "cell_type": "code",
   "execution_count": 4,
   "metadata": {},
   "outputs": [
    {
     "name": "stdout",
     "output_type": "stream",
     "text": [
      "EDA.ipynb                    review.csv\r\n",
      "Progress.ipynb               server_setup.sh\r\n",
      "Review_Scrapper.ipynb        \u001b[1m\u001b[34mspark-warehouse\u001b[m\u001b[m\r\n",
      "Review_dl.py                 \u001b[1m\u001b[34msupport\u001b[m\u001b[m\r\n",
      "Untitled.ipynb               yelp_business_scrapper.ipynb\r\n",
      "\u001b[1m\u001b[34m__pycache__\u001b[m\u001b[m                  yelp_helpers.py\r\n",
      "agile_tasks.txt              yelp_scrapper.sh\r\n",
      "city_scraper.py\r\n"
     ]
    }
   ],
   "source": [
    "!ls\n"
   ]
  },
  {
   "cell_type": "code",
   "execution_count": 5,
   "metadata": {},
   "outputs": [],
   "source": [
    "os.chdir('../')"
   ]
  },
  {
   "cell_type": "code",
   "execution_count": 6,
   "metadata": {},
   "outputs": [
    {
     "name": "stdout",
     "output_type": "stream",
     "text": [
      "LICENSE                \u001b[1m\u001b[34m__pycache__\u001b[m\u001b[m            loc_list.txt\r\n",
      "Presentation.key       \u001b[1m\u001b[34mdashboard\u001b[m\u001b[m              \u001b[1m\u001b[34msrc\u001b[m\u001b[m\r\n",
      "README.md              \u001b[1m\u001b[34mdata\u001b[m\u001b[m                   yelp_businesses.pickle\r\n",
      "Yelp_scraping.py       \u001b[1m\u001b[34mimg\u001b[m\u001b[m\r\n"
     ]
    }
   ],
   "source": [
    "!ls"
   ]
  },
  {
   "cell_type": "code",
   "execution_count": 7,
   "metadata": {},
   "outputs": [
    {
     "data": {
      "text/plain": [
       "'/Users/stevegriswold/Documents/Galvanize/DataScience-Capstone'"
      ]
     },
     "execution_count": 7,
     "metadata": {},
     "output_type": "execute_result"
    }
   ],
   "source": [
    "os.getcwd()"
   ]
  },
  {
   "cell_type": "code",
   "execution_count": 8,
   "metadata": {},
   "outputs": [
    {
     "data": {
      "text/plain": [
       "['.DS_Store',\n",
       " 'LICENSE',\n",
       " 'loc_list.txt',\n",
       " 'Presentation.key',\n",
       " 'Yelp_scraping.py',\n",
       " '__pycache__',\n",
       " 'README.md',\n",
       " 'img',\n",
       " 'yelp_businesses.pickle',\n",
       " 'dashboard',\n",
       " '.gitignore',\n",
       " '.git',\n",
       " '.vscode',\n",
       " 'data',\n",
       " 'src']"
      ]
     },
     "execution_count": 8,
     "metadata": {},
     "output_type": "execute_result"
    }
   ],
   "source": [
    "os.listdir()"
   ]
  },
  {
   "cell_type": "code",
   "execution_count": 9,
   "metadata": {},
   "outputs": [
    {
     "name": "stdout",
     "output_type": "stream",
     "text": [
      "['.DS_Store', 'LICENSE', 'loc_list.txt', 'Presentation.key', 'Yelp_scraping.py', '__pycache__', 'README.md', 'img', 'yelp_businesses.pickle', 'dashboard', '.gitignore', '.git', '.vscode', 'data', 'src']\n"
     ]
    }
   ],
   "source": [
    "print(os.listdir())"
   ]
  },
  {
   "cell_type": "code",
   "execution_count": 10,
   "metadata": {},
   "outputs": [],
   "source": [
    "from flask import Flask"
   ]
  },
  {
   "cell_type": "code",
   "execution_count": 19,
   "metadata": {},
   "outputs": [],
   "source": [
    "app = Flask(__name__)"
   ]
  },
  {
   "cell_type": "code",
   "execution_count": 12,
   "metadata": {},
   "outputs": [],
   "source": [
    "import pandas as pd\n"
   ]
  },
  {
   "cell_type": "code",
   "execution_count": 17,
   "metadata": {},
   "outputs": [],
   "source": [
    "df = pd.read_csv('data/agile_tasks.txt')"
   ]
  },
  {
   "cell_type": "code",
   "execution_count": 20,
   "metadata": {},
   "outputs": [
    {
     "data": {
      "text/plain": [
       "'/Users/stevegriswold/Documents/Galvanize/DataScience-Capstone/static'"
      ]
     },
     "execution_count": 20,
     "metadata": {},
     "output_type": "execute_result"
    }
   ],
   "source": [
    "app.static_folder"
   ]
  },
  {
   "cell_type": "code",
   "execution_count": null,
   "metadata": {},
   "outputs": [],
   "source": []
  }
 ],
 "metadata": {
  "kernelspec": {
   "display_name": "Python 3",
   "language": "python",
   "name": "python3"
  },
  "language_info": {
   "codemirror_mode": {
    "name": "ipython",
    "version": 3
   },
   "file_extension": ".py",
   "mimetype": "text/x-python",
   "name": "python",
   "nbconvert_exporter": "python",
   "pygments_lexer": "ipython3",
   "version": "3.6.5"
  }
 },
 "nbformat": 4,
 "nbformat_minor": 2
}
