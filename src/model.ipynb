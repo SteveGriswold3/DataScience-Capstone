{
 "cells": [
  {
   "cell_type": "code",
   "execution_count": 227,
   "metadata": {},
   "outputs": [],
   "source": [
    "from collections import Counter\n",
    "import pandas as pd\n",
    "import numpy as np\n",
    "import pickle\n",
    "from sklearn.feature_extraction.text import TfidfVectorizer\n",
    "from sklearn.naive_bayes import MultinomialNB\n",
    "#from model import \n",
    "from flask import Flask, request, render_template, url_for\n",
    "from pymongo import MongoClient\n",
    "from bson import json_util\n",
    "\n",
    "import requests\n",
    "import matplotlib.pyplot as plt"
   ]
  },
  {
   "cell_type": "code",
   "execution_count": 2,
   "metadata": {},
   "outputs": [],
   "source": [
    "client = MongoClient()\n",
    "db = client.yelp\n",
    "rdb = db.reviews\n",
    "\n",
    "reviews = rdb.find({}, {'_id': False, 'review_text': True, 'review_rating': True })"
   ]
  },
  {
   "cell_type": "code",
   "execution_count": 8,
   "metadata": {},
   "outputs": [
    {
     "data": {
      "text/plain": [
       "pymongo.cursor.Cursor"
      ]
     },
     "execution_count": 8,
     "metadata": {},
     "output_type": "execute_result"
    }
   ],
   "source": [
    "type(reviews)"
   ]
  },
  {
   "cell_type": "code",
   "execution_count": 12,
   "metadata": {},
   "outputs": [],
   "source": [
    "review_text = []\n",
    "review_rating = []\n",
    "for review in reviews:\n",
    "    if 'review_text' in review.keys():\n",
    "        review_text.append(review['review_text'])\n",
    "        review_rating.append(review['review_rating'])"
   ]
  },
  {
   "cell_type": "code",
   "execution_count": 14,
   "metadata": {},
   "outputs": [
    {
     "data": {
      "text/plain": [
       "(24079, 24079)"
      ]
     },
     "execution_count": 14,
     "metadata": {},
     "output_type": "execute_result"
    }
   ],
   "source": [
    "len(review_text), len(review_rating)"
   ]
  },
  {
   "cell_type": "code",
   "execution_count": 54,
   "metadata": {},
   "outputs": [],
   "source": [
    "rt = pd.DataFrame(review_text)"
   ]
  },
  {
   "cell_type": "code",
   "execution_count": 56,
   "metadata": {},
   "outputs": [
    {
     "name": "stdout",
     "output_type": "stream",
     "text": [
      "<class 'pandas.core.frame.DataFrame'>\n",
      "RangeIndex: 24079 entries, 0 to 24078\n",
      "Data columns (total 1 columns):\n",
      "review_text    24079 non-null object\n",
      "dtypes: object(1)\n",
      "memory usage: 188.2+ KB\n"
     ]
    }
   ],
   "source": [
    "rt.columns = ['review_text']\n",
    "rt.info()"
   ]
  },
  {
   "cell_type": "code",
   "execution_count": 57,
   "metadata": {},
   "outputs": [],
   "source": [
    "rt['length'] = rt['review_text'].map(lambda x: len(x))"
   ]
  },
  {
   "cell_type": "code",
   "execution_count": 62,
   "metadata": {},
   "outputs": [
    {
     "data": {
      "text/plain": [
       "array([[<matplotlib.axes._subplots.AxesSubplot object at 0x1a0dddf668>]],\n",
       "      dtype=object)"
      ]
     },
     "execution_count": 62,
     "metadata": {},
     "output_type": "execute_result"
    },
    {
     "data": {
      "image/png": "[encoded data removed]",
      "text/plain": [
       "<Figure size 432x288 with 1 Axes>"
      ]
     },
     "metadata": {},
     "output_type": "display_data"
    }
   ],
   "source": [
    "rt.hist(bins=200)"
   ]
  },
  {
   "cell_type": "code",
   "execution_count": 83,
   "metadata": {},
   "outputs": [
    {
     "data": {
      "text/html": [
       "<div>\n",
       "<style scoped>\n",
       "    .dataframe tbody tr th:only-of-type {\n",
       "        vertical-align: middle;\n",
       "    }\n",
       "\n",
       "    .dataframe tbody tr th {\n",
       "        vertical-align: top;\n",
       "    }\n",
       "\n",
       "    .dataframe thead th {\n",
       "        text-align: right;\n",
       "    }\n",
       "</style>\n",
       "<table border=\"1\" class=\"dataframe\">\n",
       "  <thead>\n",
       "    <tr style=\"text-align: right;\">\n",
       "      <th></th>\n",
       "      <th>length</th>\n",
       "    </tr>\n",
       "  </thead>\n",
       "  <tbody>\n",
       "    <tr>\n",
       "      <th>count</th>\n",
       "      <td>24079.000000</td>\n",
       "    </tr>\n",
       "    <tr>\n",
       "      <th>mean</th>\n",
       "      <td>504.062004</td>\n",
       "    </tr>\n",
       "    <tr>\n",
       "      <th>std</th>\n",
       "      <td>456.747081</td>\n",
       "    </tr>\n",
       "    <tr>\n",
       "      <th>min</th>\n",
       "      <td>21.000000</td>\n",
       "    </tr>\n",
       "    <tr>\n",
       "      <th>25%</th>\n",
       "      <td>211.000000</td>\n",
       "    </tr>\n",
       "    <tr>\n",
       "      <th>50%</th>\n",
       "      <td>367.000000</td>\n",
       "    </tr>\n",
       "    <tr>\n",
       "      <th>75%</th>\n",
       "      <td>636.000000</td>\n",
       "    </tr>\n",
       "    <tr>\n",
       "      <th>max</th>\n",
       "      <td>4989.000000</td>\n",
       "    </tr>\n",
       "  </tbody>\n",
       "</table>\n",
       "</div>"
      ],
      "text/plain": [
       "             length\n",
       "count  24079.000000\n",
       "mean     504.062004\n",
       "std      456.747081\n",
       "min       21.000000\n",
       "25%      211.000000\n",
       "50%      367.000000\n",
       "75%      636.000000\n",
       "max     4989.000000"
      ]
     },
     "execution_count": 83,
     "metadata": {},
     "output_type": "execute_result"
    }
   ],
   "source": [
    "rt.describe()"
   ]
  },
  {
   "cell_type": "code",
   "execution_count": 15,
   "metadata": {},
   "outputs": [],
   "source": [
    "X = np.array(review_text)"
   ]
  },
  {
   "cell_type": "code",
   "execution_count": 49,
   "metadata": {},
   "outputs": [],
   "source": [
    "y = np.array(review_rating)"
   ]
  },
  {
   "cell_type": "markdown",
   "metadata": {},
   "source": [
    "# Model 1: Predict 1-5"
   ]
  },
  {
   "cell_type": "code",
   "execution_count": 79,
   "metadata": {},
   "outputs": [],
   "source": [
    "X = np.array(review_text)\n",
    "y = np.array(review_rating)"
   ]
  },
  {
   "cell_type": "code",
   "execution_count": 80,
   "metadata": {},
   "outputs": [
    {
     "data": {
      "text/plain": [
       "0.5717014826197101"
      ]
     },
     "execution_count": 80,
     "metadata": {},
     "output_type": "execute_result"
    }
   ],
   "source": [
    "vect = TfidfVectorizer(lowercase=True, stop_words=\"english\")\n",
    "model_vect = vect.fit_transform(X)\n",
    "\n",
    "model = MultinomialNB()\n",
    "model.fit(model_vect, y)\n",
    "model.score(model_vect, y)"
   ]
  },
  {
   "cell_type": "markdown",
   "metadata": {},
   "source": [
    "## plot 1-5"
   ]
  },
  {
   "cell_type": "code",
   "execution_count": 224,
   "metadata": {},
   "outputs": [],
   "source": [
    "def sigmoid(x):\n",
    "    a = []\n",
    "    for item in x:\n",
    "        a.append(1/(1+np.exp(-item)))\n",
    "    return a"
   ]
  },
  {
   "cell_type": "code",
   "execution_count": 228,
   "metadata": {},
   "outputs": [
    {
     "data": {
      "image/png": "[encoded data removed]",
      "text/plain": [
       "<Figure size 432x288 with 1 Axes>"
      ]
     },
     "metadata": {},
     "output_type": "display_data"
    }
   ],
   "source": [
    "\n",
    "x = np.arange(-10., 10., 0.2)\n",
    "sig = sigmoid(x)\n",
    "plt.plot(x,sig)\n",
    "plt.show()"
   ]
  },
  {
   "cell_type": "markdown",
   "metadata": {},
   "source": [
    "# Model 2: 1-3=Bad and 4&5=Good"
   ]
  },
  {
   "cell_type": "code",
   "execution_count": 50,
   "metadata": {},
   "outputs": [],
   "source": [
    "y[y=='1.0'] = 0\n",
    "y[y=='2.0'] = 0\n",
    "y[y=='3.0'] = 0\n",
    "y[y=='4.0'] = 1\n",
    "y[y=='5.0'] = 1"
   ]
  },
  {
   "cell_type": "code",
   "execution_count": 51,
   "metadata": {},
   "outputs": [],
   "source": [
    "y=y.astype(int)"
   ]
  },
  {
   "cell_type": "code",
   "execution_count": 52,
   "metadata": {},
   "outputs": [
    {
     "data": {
      "text/plain": [
       "0.8818057228290211"
      ]
     },
     "execution_count": 52,
     "metadata": {},
     "output_type": "execute_result"
    }
   ],
   "source": [
    "vect = TfidfVectorizer(lowercase=True, stop_words=\"english\")\n",
    "model_vect = vect.fit_transform(X)\n",
    "\n",
    "model = MultinomialNB()\n",
    "model.fit(model_vect, y)\n",
    "model.score(model_vect, y)"
   ]
  },
  {
   "cell_type": "code",
   "execution_count": 223,
   "metadata": {},
   "outputs": [],
   "source": [
    "# Save Vectorizer\n",
    "with open(\"../src/tfidf_vectorizer.pickle\", 'wb') as pikl:\n",
    "    pickle.dump(vect, pikl, protocol=2)\n",
    "# Save Multinomial NB Model\n",
    "with open(\"../src/nlp_model.pickle\", 'wb') as pikl:\n",
    "    pickle.dump(model, pikl, protocol=2)"
   ]
  },
  {
   "cell_type": "markdown",
   "metadata": {},
   "source": [
    "# Model 3: Short and Long"
   ]
  },
  {
   "cell_type": "code",
   "execution_count": 86,
   "metadata": {},
   "outputs": [
    {
     "data": {
      "text/plain": [
       "array([[<matplotlib.axes._subplots.AxesSubplot object at 0x1a3557ad30>]],\n",
       "      dtype=object)"
      ]
     },
     "execution_count": 86,
     "metadata": {},
     "output_type": "execute_result"
    },
    {
     "data": {
      "image/png": "[encoded data removed]",
      "text/plain": [
       "<Figure size 432x288 with 1 Axes>"
      ]
     },
     "metadata": {},
     "output_type": "display_data"
    }
   ],
   "source": [
    "rt[rt['length']<500].hist(bins=200)"
   ]
  },
  {
   "cell_type": "markdown",
   "metadata": {},
   "source": [
    "# Short"
   ]
  },
  {
   "cell_type": "code",
   "execution_count": 90,
   "metadata": {},
   "outputs": [],
   "source": [
    "\n",
    "X = rt[rt['length']<500]['review_text'].values\n",
    "y = np.array(review_rating)\n",
    "y = y[rt['length']<500]\n",
    "\n",
    "y[y=='1.0'] = 0\n",
    "y[y=='2.0'] = 0\n",
    "y[y=='3.0'] = 0\n",
    "y[y=='4.0'] = 1\n",
    "y[y=='5.0'] = 1\n",
    "\n",
    "y=y.astype(int)"
   ]
  },
  {
   "cell_type": "code",
   "execution_count": 91,
   "metadata": {},
   "outputs": [
    {
     "data": {
      "text/plain": [
       "(15519, 15519)"
      ]
     },
     "execution_count": 91,
     "metadata": {},
     "output_type": "execute_result"
    }
   ],
   "source": [
    "len(X), len(y)"
   ]
  },
  {
   "cell_type": "code",
   "execution_count": 92,
   "metadata": {},
   "outputs": [
    {
     "data": {
      "text/plain": [
       "0.8910367936078356"
      ]
     },
     "execution_count": 92,
     "metadata": {},
     "output_type": "execute_result"
    }
   ],
   "source": [
    "vect = TfidfVectorizer(lowercase=True, stop_words=\"english\")\n",
    "model_vect = vect.fit_transform(X)\n",
    "\n",
    "model = MultinomialNB()\n",
    "model.fit(model_vect, y)\n",
    "model.score(model_vect, y)"
   ]
  },
  {
   "cell_type": "markdown",
   "metadata": {},
   "source": [
    "# Long"
   ]
  },
  {
   "cell_type": "code",
   "execution_count": 93,
   "metadata": {},
   "outputs": [
    {
     "data": {
      "text/plain": [
       "0.8779001640496836"
      ]
     },
     "execution_count": 93,
     "metadata": {},
     "output_type": "execute_result"
    }
   ],
   "source": [
    "\n",
    "X = rt[rt['length']>500]['review_text'].values\n",
    "y = np.array(review_rating)\n",
    "y = y[rt['length']>500]\n",
    "\n",
    "y[y=='1.0'] = 0\n",
    "y[y=='2.0'] = 0\n",
    "y[y=='3.0'] = 0\n",
    "y[y=='4.0'] = 1\n",
    "y[y=='5.0'] = 1\n",
    "\n",
    "y=y.astype(int)\n",
    "\n",
    "vect = TfidfVectorizer(lowercase=True, stop_words=\"english\")\n",
    "model_vect = vect.fit_transform(X)\n",
    "\n",
    "model = MultinomialNB()\n",
    "model.fit(model_vect, y)\n",
    "model.score(model_vect, y)"
   ]
  },
  {
   "cell_type": "code",
   "execution_count": 64,
   "metadata": {},
   "outputs": [],
   "source": [
    "from sklearn.cluster import KMeans"
   ]
  },
  {
   "cell_type": "code",
   "execution_count": 74,
   "metadata": {},
   "outputs": [
    {
     "data": {
      "text/plain": [
       "KMeans(algorithm='auto', copy_x=True, init='k-means++', max_iter=300,\n",
       "    n_clusters=20, n_init=10, n_jobs=1, precompute_distances='auto',\n",
       "    random_state=None, tol=0.0001, verbose=0)"
      ]
     },
     "execution_count": 74,
     "metadata": {},
     "output_type": "execute_result"
    }
   ],
   "source": [
    "kmeans = KMeans(n_clusters=20)\n",
    "kmeans.fit(model_vect)"
   ]
  },
  {
   "cell_type": "code",
   "execution_count": 75,
   "metadata": {},
   "outputs": [
    {
     "name": "stdout",
     "output_type": "stream",
     "text": [
      "\n",
      "2) cluster centers:\n",
      "[[0.00207285 0.         0.         ... 0.         0.         0.00068132]\n",
      " [0.00069558 0.00087579 0.         ... 0.         0.         0.        ]\n",
      " [0.00206057 0.         0.         ... 0.         0.         0.        ]\n",
      " ...\n",
      " [0.00095258 0.         0.00023703 ... 0.         0.         0.        ]\n",
      " [0.00388081 0.         0.         ... 0.         0.         0.        ]\n",
      " [0.00279369 0.00027353 0.         ... 0.         0.         0.        ]]\n"
     ]
    }
   ],
   "source": [
    "print(\"\\n2) cluster centers:\")\n",
    "print(kmeans.cluster_centers_)"
   ]
  },
  {
   "cell_type": "code",
   "execution_count": 76,
   "metadata": {},
   "outputs": [],
   "source": [
    "features = vect.get_feature_names()"
   ]
  },
  {
   "cell_type": "code",
   "execution_count": 71,
   "metadata": {},
   "outputs": [
    {
     "name": "stdout",
     "output_type": "stream",
     "text": [
      "\n",
      "3) top features (words) for each cluster:\n",
      "0: food, good, service, place, fast, friendly, really, staff, nice, restaurant\n",
      "1: order, minutes, time, food, service, said, drive, just, customer, asked\n",
      "2: place, like, good, just, time, food, love, best, ve, really\n",
      "3: coffee, starbucks, shop, great, iced, place, good, friendly, love, brew\n",
      "4: great, food, service, place, friendly, staff, love, good, awesome, atmosphere\n",
      "5: tacos, burrito, salsa, taco, asada, carne, good, food, mexican, chips\n",
      "6: chicken, rice, good, food, salad, ordered, fried, sauce, place, like\n",
      "7: pizza, crust, wings, good, delivery, great, order, place, ordered, cheese\n"
     ]
    }
   ],
   "source": [
    "top_centroids = kmeans.cluster_centers_.argsort()[:,-1:-11:-1]\n",
    "print(\"\\n3) top features (words) for each cluster:\")\n",
    "for num, centroid in enumerate(top_centroids):\n",
    "    print(\"%d: %s\" % (num, \", \".join(features[i] for i in centroid)))\n"
   ]
  },
  {
   "cell_type": "code",
   "execution_count": 77,
   "metadata": {},
   "outputs": [
    {
     "name": "stdout",
     "output_type": "stream",
     "text": [
      "\n",
      "3) top features (words) for each cluster:\n",
      "0: sushi, roll, rolls, place, good, great, fresh, service, happy, love\n",
      "1: park, dog, dogs, trail, kids, playground, play, lots, great, parking\n",
      "2: lunch, salad, good, food, place, great, chicken, service, fresh, time\n",
      "3: breakfast, eggs, good, bacon, place, toast, food, great, service, hash\n",
      "4: place, like, just, food, time, love, bar, don, good, service\n",
      "5: coffee, shop, starbucks, great, iced, place, brew, good, love, friendly\n",
      "6: tacos, taco, asada, good, fish, carne, salsa, food, place, street\n",
      "7: location, service, food, time, ve, drive, customer, order, employees, times\n",
      "8: mexican, food, salsa, authentic, place, good, great, restaurant, chips, best\n",
      "9: burrito, asada, carne, good, food, burritos, salsa, place, breakfast, cheese\n",
      "10: burger, fries, burgers, good, food, king, place, cheese, like, just\n",
      "11: staff, friendly, food, great, place, clean, good, love, nice, super\n",
      "12: great, service, food, place, love, awesome, atmosphere, good, friendly, definitely\n",
      "13: pizza, crust, wings, good, delivery, order, great, place, ordered, cheese\n",
      "14: order, minutes, food, said, time, asked, manager, drive, just, service\n",
      "15: chicken, rice, food, good, fried, ordered, place, orange, sauce, chinese\n",
      "16: donuts, donut, dunkin, coffee, fresh, bosa, good, great, glazed, shop\n",
      "17: food, good, service, place, fast, really, time, like, nice, restaurant\n",
      "18: sandwich, bread, sandwiches, subway, turkey, good, just, ordered, like, place\n",
      "19: good, ordered, sauce, food, delicious, cheese, like, great, came, restaurant\n"
     ]
    }
   ],
   "source": [
    "top_centroids = kmeans.cluster_centers_.argsort()[:,-1:-11:-1]\n",
    "print(\"\\n3) top features (words) for each cluster:\")\n",
    "for num, centroid in enumerate(top_centroids):\n",
    "    print(\"%d: %s\" % (num, \", \".join(features[i] for i in centroid)))"
   ]
  },
  {
   "cell_type": "code",
   "execution_count": 81,
   "metadata": {},
   "outputs": [
    {
     "name": "stdout",
     "output_type": "stream",
     "text": [
      "\n",
      "3) top features (words) for each cluster:\n",
      "0: order, minutes, food, time, said, asked, service, just, manager, drive\n",
      "1: place, food, like, just, service, time, love, bar, best, don\n",
      "2: good, food, place, service, really, fast, mexican, friendly, nice, restaurant\n",
      "3: chicken, rice, food, good, ordered, fried, place, salad, sauce, like\n",
      "4: pizza, crust, wings, good, delivery, great, order, place, ordered, cheese\n",
      "5: tacos, asada, taco, carne, salsa, good, food, burrito, place, fish\n",
      "6: sandwich, good, ordered, salad, cheese, like, sauce, place, delicious, bread\n",
      "7: burger, fries, burgers, good, food, place, king, cheese, like, just\n",
      "8: great, food, service, place, friendly, love, staff, atmosphere, awesome, good\n",
      "9: breakfast, eggs, good, place, bacon, burrito, food, great, service, toast\n",
      "10: coffee, shop, starbucks, great, iced, place, brew, good, friendly, love\n",
      "11: location, service, food, time, ve, staff, drive, friendly, customer, order\n"
     ]
    }
   ],
   "source": [
    "kmeans = KMeans(n_clusters=12)\n",
    "kmeans.fit(model_vect)\n",
    "features = vect.get_feature_names()\n",
    "top_centroids = kmeans.cluster_centers_.argsort()[:,-1:-11:-1]\n",
    "print(\"\\n3) top features (words) for each cluster:\")\n",
    "for num, centroid in enumerate(top_centroids):\n",
    "    print(\"%d: %s\" % (num, \", \".join(features[i] for i in centroid)))"
   ]
  },
  {
   "cell_type": "code",
   "execution_count": 94,
   "metadata": {},
   "outputs": [
    {
     "name": "stdout",
     "output_type": "stream",
     "text": [
      "KMeans Clustering Loop clusters\n",
      "KMeans for 8 Clusters:\n",
      "\n",
      "3) top features (words) for each cluster:\n",
      "0: coffee, donuts, starbucks, iced, milk, shop, drink, like, place, just\n",
      "1: order, food, said, minutes, asked, time, manager, service, told, just\n",
      "2: tacos, salsa, taco, burrito, mexican, food, good, chips, beans, asada\n",
      "3: sandwich, sandwiches, subway, bread, just, like, lunch, cheese, turkey, sub\n",
      "4: chicken, good, rice, food, sauce, salad, fried, ordered, like, place\n",
      "5: burger, fries, burgers, good, bun, food, cheese, place, like, onion\n",
      "6: food, place, good, great, like, service, just, time, restaurant, bar\n",
      "7: pizza, crust, wings, order, pizzas, pepperoni, cheese, ordered, time, sauce\n",
      "\n",
      "KMeans for 9 Clusters:\n",
      "\n",
      "3) top features (words) for each cluster:\n",
      "0: chicken, good, food, sauce, rice, fried, ordered, salad, place, like\n",
      "1: tacos, salsa, taco, mexican, food, burrito, good, chips, asada, beans\n",
      "2: pizza, crust, wings, order, pizzas, pepperoni, cheese, ordered, time, sauce\n",
      "3: sandwich, sandwiches, subway, bread, like, lunch, just, turkey, sub, good\n",
      "4: order, food, minutes, said, asked, manager, time, service, told, just\n",
      "5: burger, fries, burgers, good, bun, cheese, food, like, place, onion\n",
      "6: coffee, donuts, starbucks, iced, milk, shop, drink, like, location, tea\n",
      "7: breakfast, good, great, salad, food, ordered, restaurant, delicious, service, steak\n",
      "8: food, place, good, great, like, bar, just, time, service, really\n",
      "\n",
      "KMeans for 10 Clusters:\n",
      "\n",
      "3) top features (words) for each cluster:\n",
      "0: breakfast, eggs, toast, bacon, hash, good, egg, food, potatoes, place\n",
      "1: great, food, good, place, bar, service, restaurant, night, sushi, menu\n",
      "2: tacos, salsa, taco, mexican, food, burrito, good, chips, beans, asada\n",
      "3: chicken, salad, good, food, rice, sauce, place, ordered, fried, like\n",
      "4: pizza, crust, pizzas, order, pepperoni, cheese, time, ordered, just, good\n",
      "5: place, food, like, sandwich, just, location, good, time, ve, don\n",
      "6: order, minutes, food, said, asked, manager, time, told, service, customer\n",
      "7: wings, pizza, sauce, order, boneless, hot, good, wing, buffalo, fries\n",
      "8: coffee, starbucks, milk, iced, shop, drink, brew, place, like, latte\n",
      "9: burger, fries, burgers, good, food, bun, cheese, like, place, onion\n",
      "\n",
      "KMeans for 11 Clusters:\n",
      "\n",
      "3) top features (words) for each cluster:\n",
      "0: order, food, minutes, said, asked, time, manager, service, told, customer\n",
      "1: coffee, starbucks, milk, iced, shop, drink, brew, place, like, latte\n",
      "2: wings, pizza, sauce, boneless, hot, order, wing, good, fries, buffalo\n",
      "3: tacos, salsa, taco, mexican, food, burrito, good, chips, beans, asada\n",
      "4: salad, chicken, good, dressing, soup, food, lunch, sandwich, ordered, great\n",
      "5: pizza, crust, pizzas, order, cheese, pepperoni, time, ordered, just, good\n",
      "6: burger, fries, burgers, good, bun, food, cheese, place, like, onion\n",
      "7: place, food, like, good, just, great, time, sandwich, ve, don\n",
      "8: great, good, food, service, place, restaurant, ordered, delicious, dinner, amazing\n",
      "9: chicken, rice, food, sushi, good, place, fried, chinese, roll, sauce\n",
      "10: breakfast, eggs, toast, bacon, hash, good, egg, food, potatoes, place\n",
      "\n",
      "KMeans for 12 Clusters:\n",
      "\n",
      "3) top features (words) for each cluster:\n",
      "0: coffee, starbucks, milk, iced, shop, drink, brew, place, like, latte\n",
      "1: sandwich, sandwiches, subway, bread, like, lunch, just, turkey, cheese, good\n",
      "2: salsa, mexican, burrito, food, chips, good, beans, rice, place, ordered\n",
      "3: bar, place, great, food, good, like, park, just, area, really\n",
      "4: sushi, roll, rolls, spicy, place, good, tuna, fresh, salmon, food\n",
      "5: pizza, crust, wings, order, pizzas, cheese, pepperoni, ordered, sauce, time\n",
      "6: order, location, said, food, customer, manager, time, drive, just, asked\n",
      "7: tacos, taco, asada, food, carne, fish, salsa, place, good, order\n",
      "8: food, good, great, place, salad, service, restaurant, like, delicious, breakfast\n",
      "9: burger, fries, burgers, good, food, bun, cheese, like, place, onion\n",
      "10: chicken, food, rice, good, sauce, fried, chinese, place, like, ordered\n",
      "11: minutes, food, table, came, server, time, service, asked, waitress, order\n",
      "\n",
      "KMeans for 13 Clusters:\n",
      "\n",
      "3) top features (words) for each cluster:\n",
      "0: chicken, rice, food, good, fried, sauce, ordered, salad, chinese, place\n",
      "1: food, good, place, great, like, restaurant, just, service, ordered, really\n",
      "2: sandwich, sandwiches, bread, subway, lunch, like, just, cheese, turkey, good\n",
      "3: coffee, starbucks, milk, iced, shop, drink, place, brew, like, latte\n",
      "4: order, said, manager, asked, told, customer, just, food, drive, time\n",
      "5: park, dog, dogs, trail, trails, hike, water, area, parking, hot\n",
      "6: tacos, salsa, taco, mexican, burrito, food, good, chips, beans, asada\n",
      "7: bar, great, place, beer, bartender, good, drinks, night, food, happy\n",
      "8: sushi, roll, rolls, spicy, place, tuna, good, fresh, salmon, sashimi\n",
      "9: pizza, crust, pizzas, order, pepperoni, cheese, ordered, time, just, good\n",
      "10: food, location, time, service, minutes, order, just, place, good, people\n",
      "11: wings, pizza, sauce, order, hot, boneless, wing, good, buffalo, fries\n",
      "12: burger, fries, burgers, good, bun, cheese, food, like, onion, place\n",
      "\n",
      "KMeans for 14 Clusters:\n",
      "\n",
      "3) top features (words) for each cluster:\n",
      "0: great, good, bar, place, salad, food, menu, delicious, restaurant, ordered\n",
      "1: minutes, table, food, came, asked, server, waitress, service, said, time\n",
      "2: pizza, crust, wings, order, pizzas, cheese, pepperoni, ordered, sauce, time\n",
      "3: coffee, donuts, starbucks, iced, milk, shop, drink, like, brew, place\n",
      "4: breakfast, eggs, bacon, toast, good, egg, hash, food, potatoes, place\n",
      "5: salsa, mexican, chips, burrito, food, good, beans, taco, rice, place\n",
      "6: burger, fries, burgers, good, cheese, bun, food, like, onion, place\n",
      "7: food, place, good, service, like, ve, time, great, just, location\n",
      "8: tacos, taco, asada, carne, food, good, place, salsa, fish, street\n",
      "9: chicken, rice, good, food, fried, sauce, chinese, beef, ordered, place\n",
      "10: sandwich, sandwiches, bread, subway, turkey, like, just, lunch, cheese, good\n",
      "11: park, dog, place, dogs, just, like, people, area, trail, don\n",
      "12: order, said, manager, drive, customer, location, time, asked, minutes, told\n",
      "13: sushi, roll, rolls, place, good, spicy, tuna, fresh, salmon, food\n",
      "\n",
      "KMeans for 15 Clusters:\n",
      "\n",
      "3) top features (words) for each cluster:\n",
      "0: park, dog, trail, dogs, trails, hike, water, area, parking, kids\n",
      "1: food, place, good, mexican, service, great, restaurant, like, really, time\n",
      "2: location, customer, time, just, food, service, employees, don, like, order\n",
      "3: great, bar, good, place, food, restaurant, like, service, night, time\n",
      "4: sandwich, sandwiches, bread, subway, turkey, just, like, lunch, cheese, ordered\n",
      "5: breakfast, eggs, bacon, toast, good, hash, egg, potatoes, food, place\n",
      "6: burger, fries, burgers, good, bun, cheese, food, like, onion, place\n",
      "7: cream, ice, bagel, bagels, just, like, cheese, time, cone, ordered\n",
      "8: tacos, salsa, taco, burrito, chips, asada, good, carne, beans, food\n",
      "9: sushi, roll, rolls, spicy, place, tuna, good, fresh, salmon, food\n",
      "10: wings, bbq, sauce, brisket, good, fries, place, food, pulled, hot\n",
      "11: coffee, starbucks, milk, iced, shop, drink, brew, latte, place, like\n",
      "12: pizza, crust, order, pizzas, wings, pepperoni, cheese, ordered, time, just\n",
      "13: order, minutes, said, food, asked, told, manager, time, got, just\n",
      "14: chicken, rice, good, food, salad, sauce, fried, ordered, like, place\n",
      "\n",
      "KMeans for 16 Clusters:\n",
      "\n",
      "3) top features (words) for each cluster:\n",
      "0: park, dog, trail, dogs, trails, hike, water, area, hiking, parking\n",
      "1: coffee, starbucks, milk, iced, shop, drink, brew, place, latte, like\n",
      "2: pizza, crust, pizzas, order, pepperoni, cheese, ordered, time, just, good\n",
      "3: sandwich, sandwiches, bread, subway, turkey, just, like, cheese, lunch, good\n",
      "4: location, food, just, like, customer, time, service, don, employees, drive\n",
      "5: wings, pizza, sauce, order, hot, boneless, fries, buffalo, wing, good\n",
      "6: tacos, salsa, taco, mexican, food, burrito, good, chips, beans, asada\n",
      "7: burger, fries, burgers, good, bun, cheese, food, like, place, onion\n",
      "8: minutes, food, wait, time, order, waited, came, waiting, table, service\n",
      "9: food, good, place, great, breakfast, service, restaurant, like, delicious, menu\n",
      "10: salad, chicken, pita, good, food, soup, dressing, lunch, place, ordered\n",
      "11: sushi, roll, rolls, spicy, place, good, tuna, fresh, salmon, sashimi\n",
      "12: bbq, brisket, pork, pulled, ribs, sauce, good, meat, mac, food\n",
      "13: bar, place, great, beer, good, drinks, food, night, bartender, hour\n",
      "14: order, said, told, manager, called, asked, food, time, location, just\n",
      "15: chicken, rice, food, good, chinese, fried, sauce, place, like, beef\n",
      "\n",
      "KMeans for 17 Clusters:\n"
     ]
    },
    {
     "name": "stdout",
     "output_type": "stream",
     "text": [
      "\n",
      "3) top features (words) for each cluster:\n",
      "0: tacos, taco, asada, carne, food, burrito, place, good, salsa, meat\n",
      "1: sandwich, sandwiches, subway, bread, like, turkey, just, lunch, place, sub\n",
      "2: food, table, server, came, service, asked, minutes, waitress, time, said\n",
      "3: salsa, chips, beans, mexican, good, rice, burrito, food, ordered, tacos\n",
      "4: chicken, rice, food, fried, good, chinese, ordered, sauce, beef, like\n",
      "5: good, sauce, great, like, place, food, ordered, cheese, restaurant, delicious\n",
      "6: wings, pizza, sauce, boneless, hot, order, wing, good, fries, buffalo\n",
      "7: location, customer, manager, just, order, time, service, employees, food, don\n",
      "8: breakfast, eggs, bacon, toast, good, hash, egg, potatoes, benedict, place\n",
      "9: bar, great, place, park, good, area, night, dog, beer, just\n",
      "10: order, minutes, said, told, food, time, drive, asked, wait, window\n",
      "11: salad, chicken, soup, dressing, good, food, lunch, ordered, place, great\n",
      "12: food, place, good, service, great, restaurant, like, ve, really, time\n",
      "13: burger, fries, burgers, good, bun, cheese, food, like, onion, place\n",
      "14: coffee, donuts, starbucks, iced, milk, shop, drink, like, place, brew\n",
      "15: pizza, crust, pizzas, order, pepperoni, cheese, ordered, time, just, good\n",
      "16: sushi, roll, rolls, place, spicy, good, tuna, fresh, salmon, food\n",
      "\n",
      "KMeans for 18 Clusters:\n",
      "\n",
      "3) top features (words) for each cluster:\n",
      "0: great, steak, dinner, server, restaurant, food, night, wine, amazing, good\n",
      "1: minutes, order, food, wait, waited, time, waiting, came, 10, asked\n",
      "2: bar, place, beer, bartender, drinks, great, good, food, drink, hour\n",
      "3: order, said, manager, asked, customer, told, location, service, food, rude\n",
      "4: fish, bbq, brisket, pork, good, sauce, ribs, pulled, food, place\n",
      "5: coffee, donuts, starbucks, iced, milk, shop, drink, latte, place, like\n",
      "6: burger, fries, burgers, good, bun, cheese, food, like, place, onion\n",
      "7: breakfast, eggs, bacon, toast, good, hash, food, egg, potatoes, place\n",
      "8: food, place, good, like, just, time, service, ve, great, location\n",
      "9: tacos, salsa, taco, mexican, food, burrito, good, chips, asada, beans\n",
      "10: park, trail, trails, hike, hiking, parking, water, lake, mountain, views\n",
      "11: sushi, roll, rolls, spicy, place, good, tuna, fresh, salmon, sashimi\n",
      "12: salad, pasta, italian, good, bread, chicken, cheese, ordered, food, dressing\n",
      "13: chicken, rice, food, good, fried, sauce, chinese, beef, place, ordered\n",
      "14: pizza, crust, pizzas, order, pepperoni, cheese, time, ordered, just, good\n",
      "15: dog, dogs, bagel, bagels, hot, chicago, park, cream, cheese, like\n",
      "16: sandwich, sandwiches, subway, bread, sub, turkey, just, like, lunch, cheese\n",
      "17: wings, pizza, sauce, order, hot, boneless, wing, buffalo, fries, good\n",
      "\n"
     ]
    }
   ],
   "source": [
    "print('KMeans Clustering Loop clusters')\n",
    "for x in range(8, 19):\n",
    "    print('KMeans for {} Clusters:'.format(x))\n",
    "    kmeans = KMeans(n_clusters=x)\n",
    "    kmeans.fit(model_vect)\n",
    "    features = vect.get_feature_names()\n",
    "    top_centroids = kmeans.cluster_centers_.argsort()[:,-1:-11:-1]\n",
    "    print(\"\\n3) top features (words) for each cluster:\")\n",
    "    for num, centroid in enumerate(top_centroids):\n",
    "        print(\"%d: %s\" % (num, \", \".join(features[i] for i in centroid)))\n",
    "    \n",
    "    print()"
   ]
  },
  {
   "cell_type": "code",
   "execution_count": null,
   "metadata": {},
   "outputs": [],
   "source": [
    "kmeans.predict"
   ]
  },
  {
   "cell_type": "code",
   "execution_count": null,
   "metadata": {},
   "outputs": [],
   "source": [
    "kmeans.predict()"
   ]
  },
  {
   "cell_type": "code",
   "execution_count": 96,
   "metadata": {},
   "outputs": [
    {
     "data": {
      "text/plain": [
       "(8534, 25424)"
      ]
     },
     "execution_count": 96,
     "metadata": {},
     "output_type": "execute_result"
    }
   ],
   "source": [
    "model_vect.shape"
   ]
  },
  {
   "cell_type": "code",
   "execution_count": 98,
   "metadata": {},
   "outputs": [
    {
     "data": {
      "text/plain": [
       "0.0"
      ]
     },
     "execution_count": 98,
     "metadata": {},
     "output_type": "execute_result"
    }
   ],
   "source": [
    "model_vect[0,0]"
   ]
  },
  {
   "cell_type": "code",
   "execution_count": 222,
   "metadata": {},
   "outputs": [],
   "source": [
    "with open(\"../src/kmeans_model.pickle\", 'wb') as pikl:\n",
    "    pickle.dump(model_vect, pikl, protocol=2)"
   ]
  },
  {
   "cell_type": "markdown",
   "metadata": {},
   "source": [
    "# Update MongoDB for each Review Cluster"
   ]
  },
  {
   "cell_type": "code",
   "execution_count": null,
   "metadata": {},
   "outputs": [],
   "source": [
    "client = MongoClient()\n",
    "db = client.yelp\n",
    "rdb = db.reviews"
   ]
  },
  {
   "cell_type": "code",
   "execution_count": 132,
   "metadata": {},
   "outputs": [],
   "source": [
    "reviews = rdb.find_one({}, {'_id': False, 'review_id': True, 'review_text': True, 'review_rating': True })"
   ]
  },
  {
   "cell_type": "code",
   "execution_count": 133,
   "metadata": {},
   "outputs": [
    {
     "data": {
      "text/plain": [
       "{'review_id': 'jC-tEN_0NfowFejmOn1cBg',\n",
       " 'review_rating': '5.0',\n",
       " 'review_text': 'Another 6am bar. Love it! Had a decent Saturday am crowd. Beers are cheap and have a few ciders and micros online. Sweet!'}"
      ]
     },
     "execution_count": 133,
     "metadata": {},
     "output_type": "execute_result"
    }
   ],
   "source": [
    "reviews"
   ]
  },
  {
   "cell_type": "code",
   "execution_count": 116,
   "metadata": {},
   "outputs": [],
   "source": [
    "test_vector = vect.transform([reviews['review_text']])"
   ]
  },
  {
   "cell_type": "code",
   "execution_count": 117,
   "metadata": {},
   "outputs": [
    {
     "data": {
      "text/plain": [
       "(1, 25424)"
      ]
     },
     "execution_count": 117,
     "metadata": {},
     "output_type": "execute_result"
    }
   ],
   "source": [
    "test_vector.shape"
   ]
  },
  {
   "cell_type": "code",
   "execution_count": 126,
   "metadata": {},
   "outputs": [],
   "source": [
    "Clusters = {}\n",
    "Clusters[0] = 'Dinner' \n",
    "Clusters[1] = 'Long Wait' \n",
    "Clusters[2] = 'Bar' \n",
    "Clusters[3] = 'Bad Service'\n",
    "Clusters[4] = 'Meat'\n",
    "Clusters[5] = 'Coffee/Donuts' \n",
    "Clusters[6] = 'Burgers'\n",
    "Clusters[7] = 'Breakfast'\n",
    "Clusters[8] = 'Good Service'\n",
    "Clusters[9] = 'Tacos'\n",
    "Clusters[10] = 'Park'\n",
    "Clusters[11] = 'Sushi'\n",
    "Clusters[12] = 'Salad'\n",
    "Clusters[13] = 'Chinese'\n",
    "Clusters[14] = 'Pizza'\n",
    "Clusters[15] = 'Hot Dogs'\n",
    "Clusters[16] = 'Lunch/Sandwiches'\n",
    "Clusters[17] = 'Wings'"
   ]
  },
  {
   "cell_type": "code",
   "execution_count": 128,
   "metadata": {},
   "outputs": [],
   "source": [
    "predict_cluster = kmeans.predict(test_vector)"
   ]
  },
  {
   "cell_type": "code",
   "execution_count": 129,
   "metadata": {},
   "outputs": [],
   "source": [
    "assign_cluster = Clusters[predict_cluster[0]]"
   ]
  },
  {
   "cell_type": "code",
   "execution_count": 130,
   "metadata": {},
   "outputs": [
    {
     "name": "stdout",
     "output_type": "stream",
     "text": [
      "Bar\n"
     ]
    }
   ],
   "source": [
    "print(assign_cluster)"
   ]
  },
  {
   "cell_type": "code",
   "execution_count": 135,
   "metadata": {},
   "outputs": [
    {
     "data": {
      "text/plain": [
       "<pymongo.results.UpdateResult at 0x1a0c63f6c8>"
      ]
     },
     "execution_count": 135,
     "metadata": {},
     "output_type": "execute_result"
    }
   ],
   "source": [
    "rdb.update_one({'review_id': 'jC-tEN_0NfowFejmOn1cBg'}, {'$set': {'cluster': assign_cluster}})"
   ]
  },
  {
   "cell_type": "code",
   "execution_count": 138,
   "metadata": {},
   "outputs": [],
   "source": [
    "predict_rating = model.predict(test_vector)"
   ]
  },
  {
   "cell_type": "code",
   "execution_count": 140,
   "metadata": {},
   "outputs": [
    {
     "name": "stdout",
     "output_type": "stream",
     "text": [
      "Good\n"
     ]
    }
   ],
   "source": [
    "if predict_rating==1:\n",
    "    sentiment = 'Good'\n",
    "    print('Good')\n",
    "else:\n",
    "    sentiment = 'Bad'\n",
    "    print('Bad')"
   ]
  },
  {
   "cell_type": "code",
   "execution_count": 141,
   "metadata": {},
   "outputs": [
    {
     "data": {
      "text/plain": [
       "<pymongo.results.UpdateResult at 0x1a0c63f048>"
      ]
     },
     "execution_count": 141,
     "metadata": {},
     "output_type": "execute_result"
    }
   ],
   "source": [
    "rdb.update_one({'review_id': 'jC-tEN_0NfowFejmOn1cBg'}, \n",
    "               {'$set': \n",
    "                {'cluster': assign_cluster,\n",
    "                'sentiment': sentiment}})"
   ]
  },
  {
   "cell_type": "markdown",
   "metadata": {},
   "source": [
    "# Update MongoDB for each Review Cluster"
   ]
  },
  {
   "cell_type": "code",
   "execution_count": 161,
   "metadata": {},
   "outputs": [],
   "source": [
    "def update_review_predictions(review):\n",
    "    # Vectorize\n",
    "    test_vector = vect.transform([review['review_text']])\n",
    "    # Kmeans\n",
    "    predict_cluster = kmeans.predict(test_vector)\n",
    "    assign_cluster = Clusters[predict_cluster[0]]\n",
    "    # NLP: MultinomialNB\n",
    "    predict_rating = model.predict(test_vector)\n",
    "    # Update MongoDB\n",
    "    if predict_rating==1:\n",
    "        sentiment = 'Good'\n",
    "    else:\n",
    "        sentiment = 'Bad'\n",
    "        \n",
    "    rdb.update_one({'review_id': review['review_id']}, {'$set': {'cluster': assign_cluster, 'sentiment': sentiment}})\n",
    "    pass"
   ]
  },
  {
   "cell_type": "code",
   "execution_count": 164,
   "metadata": {},
   "outputs": [
    {
     "data": {
      "text/plain": [
       "{'review_id': 'lSI1768_bP8KFOyLqT7gyg'}"
      ]
     },
     "execution_count": 164,
     "metadata": {},
     "output_type": "execute_result"
    }
   ],
   "source": [
    "review"
   ]
  },
  {
   "cell_type": "code",
   "execution_count": 162,
   "metadata": {},
   "outputs": [],
   "source": [
    "update_review_predictions(review)"
   ]
  },
  {
   "cell_type": "code",
   "execution_count": 168,
   "metadata": {
    "collapsed": true
   },
   "outputs": [
    {
     "name": "stdout",
     "output_type": "stream",
     "text": [
      "1.0 % Complete\n",
      "2.0 % Complete\n",
      "2.0 % Complete\n",
      "3.0 % Complete\n",
      "4.0 % Complete\n",
      "5.0 % Complete\n",
      "5.0 % Complete\n",
      "6.0 % Complete\n",
      "7.000000000000001 % Complete\n",
      "8.0 % Complete\n",
      "8.0 % Complete\n",
      "9.0 % Complete\n",
      "10.0 % Complete\n",
      "11.0 % Complete\n",
      "11.0 % Complete\n",
      "12.0 % Complete\n",
      "13.0 % Complete\n",
      "14.000000000000002 % Complete\n",
      "14.000000000000002 % Complete\n",
      "15.0 % Complete\n",
      "16.0 % Complete\n",
      "17.0 % Complete\n",
      "17.0 % Complete\n",
      "18.0 % Complete\n",
      "19.0 % Complete\n",
      "20.0 % Complete\n",
      "21.0 % Complete\n",
      "21.0 % Complete\n",
      "22.0 % Complete\n",
      "23.0 % Complete\n",
      "24.0 % Complete\n",
      "24.0 % Complete\n",
      "25.0 % Complete\n",
      "26.0 % Complete\n",
      "27.0 % Complete\n",
      "27.0 % Complete\n",
      "28.000000000000004 % Complete\n",
      "28.999999999999996 % Complete\n",
      "30.0 % Complete\n",
      "30.0 % Complete\n",
      "31.0 % Complete\n",
      "32.0 % Complete\n",
      "33.0 % Complete\n",
      "33.0 % Complete\n",
      "34.0 % Complete\n",
      "35.0 % Complete\n",
      "36.0 % Complete\n",
      "37.0 % Complete\n",
      "37.0 % Complete\n",
      "38.0 % Complete\n",
      "39.0 % Complete\n",
      "40.0 % Complete\n",
      "40.0 % Complete\n",
      "41.0 % Complete\n",
      "42.0 % Complete\n",
      "43.0 % Complete\n",
      "43.0 % Complete\n",
      "44.0 % Complete\n",
      "45.0 % Complete\n",
      "46.0 % Complete\n",
      "46.0 % Complete\n",
      "47.0 % Complete\n",
      "48.0 % Complete\n",
      "49.0 % Complete\n",
      "49.0 % Complete\n",
      "50.0 % Complete\n",
      "51.0 % Complete\n",
      "52.0 % Complete\n",
      "52.0 % Complete\n",
      "53.0 % Complete\n",
      "54.0 % Complete\n",
      "55.00000000000001 % Complete\n",
      "56.00000000000001 % Complete\n",
      "56.00000000000001 % Complete\n",
      "56.99999999999999 % Complete\n",
      "57.99999999999999 % Complete\n",
      "59.0 % Complete\n",
      "59.0 % Complete\n",
      "60.0 % Complete\n",
      "61.0 % Complete\n",
      "62.0 % Complete\n",
      "62.0 % Complete\n",
      "63.0 % Complete\n",
      "64.0 % Complete\n",
      "65.0 % Complete\n",
      "65.0 % Complete\n",
      "66.0 % Complete\n",
      "67.0 % Complete\n",
      "68.0 % Complete\n",
      "68.0 % Complete\n",
      "69.0 % Complete\n",
      "70.0 % Complete\n",
      "71.0 % Complete\n",
      "72.0 % Complete\n",
      "72.0 % Complete\n",
      "73.0 % Complete\n",
      "74.0 % Complete\n",
      "75.0 % Complete\n",
      "75.0 % Complete\n",
      "76.0 % Complete\n",
      "77.0 % Complete\n",
      "78.0 % Complete\n",
      "78.0 % Complete\n",
      "79.0 % Complete\n",
      "80.0 % Complete\n",
      "81.0 % Complete\n",
      "81.0 % Complete\n",
      "82.0 % Complete\n",
      "83.0 % Complete\n",
      "84.0 % Complete\n",
      "84.0 % Complete\n",
      "85.0 % Complete\n",
      "86.0 % Complete\n",
      "87.0 % Complete\n",
      "87.0 % Complete\n",
      "88.0 % Complete\n",
      "89.0 % Complete\n",
      "90.0 % Complete\n",
      "91.0 % Complete\n",
      "91.0 % Complete\n"
     ]
    }
   ],
   "source": [
    "total_reviews = rdb.count_documents({})\n",
    "count_reviews = 0\n",
    "reviews = rdb.find({'review_text': {'$exists': True}}, {'_id': False, 'review_id': True, 'review_text': True, 'review_rating': True })\n",
    "\n",
    "for review in reviews:\n",
    "    update_review_predictions(review)\n",
    "    count_reviews+=1\n",
    "    if count_reviews%200 ==0:\n",
    "        print(round(count_reviews/total_reviews,2)*100,'% Complete')"
   ]
  },
  {
   "cell_type": "code",
   "execution_count": 153,
   "metadata": {},
   "outputs": [
    {
     "data": {
      "text/plain": [
       "26293"
      ]
     },
     "execution_count": 153,
     "metadata": {},
     "output_type": "execute_result"
    }
   ],
   "source": [
    "rdb.count_documents({})"
   ]
  },
  {
   "cell_type": "code",
   "execution_count": 167,
   "metadata": {},
   "outputs": [
    {
     "name": "stderr",
     "output_type": "stream",
     "text": [
      "/anaconda3/lib/python3.6/site-packages/ipykernel_launcher.py:3: DeprecationWarning: count is deprecated. Use Collection.count_documents instead.\n",
      "  This is separate from the ipykernel package so we can avoid doing imports until\n"
     ]
    },
    {
     "data": {
      "text/plain": [
       "24109"
      ]
     },
     "execution_count": 167,
     "metadata": {},
     "output_type": "execute_result"
    }
   ],
   "source": [
    "reviews = rdb.find({'review_text': {'$exists': True}}, {'_id': False, 'review_id': True, 'review_text': True, 'review_rating': True })\n",
    "\n",
    "reviews.count()"
   ]
  },
  {
   "cell_type": "code",
   "execution_count": null,
   "metadata": {},
   "outputs": [],
   "source": []
  },
  {
   "cell_type": "code",
   "execution_count": 193,
   "metadata": {},
   "outputs": [
    {
     "name": "stderr",
     "output_type": "stream",
     "text": [
      "/anaconda3/lib/python3.6/site-packages/ipykernel_launcher.py:12: SettingWithCopyWarning: \n",
      "A value is trying to be set on a copy of a slice from a DataFrame\n",
      "\n",
      "See the caveats in the documentation: http://pandas.pydata.org/pandas-docs/stable/indexing.html#indexing-view-versus-copy\n",
      "  if sys.path[0] == '':\n",
      "/anaconda3/lib/python3.6/site-packages/ipykernel_launcher.py:13: SettingWithCopyWarning: \n",
      "A value is trying to be set on a copy of a slice from a DataFrame\n",
      "\n",
      "See the caveats in the documentation: http://pandas.pydata.org/pandas-docs/stable/indexing.html#indexing-view-versus-copy\n",
      "  del sys.path[0]\n",
      "/anaconda3/lib/python3.6/site-packages/pandas/core/indexing.py:189: SettingWithCopyWarning: \n",
      "A value is trying to be set on a copy of a slice from a DataFrame\n",
      "\n",
      "See the caveats in the documentation: http://pandas.pydata.org/pandas-docs/stable/indexing.html#indexing-view-versus-copy\n",
      "  self._setitem_with_indexer(indexer, value)\n",
      "/anaconda3/lib/python3.6/site-packages/ipykernel_launcher.py:14: SettingWithCopyWarning: \n",
      "A value is trying to be set on a copy of a slice from a DataFrame\n",
      "\n",
      "See the caveats in the documentation: http://pandas.pydata.org/pandas-docs/stable/indexing.html#indexing-view-versus-copy\n",
      "  \n",
      "/anaconda3/lib/python3.6/site-packages/ipykernel_launcher.py:11: SettingWithCopyWarning: \n",
      "A value is trying to be set on a copy of a slice from a DataFrame\n",
      "\n",
      "See the caveats in the documentation: http://pandas.pydata.org/pandas-docs/stable/indexing.html#indexing-view-versus-copy\n",
      "  # This is added back by InteractiveShellApp.init_path()\n"
     ]
    },
    {
     "ename": "KeyboardInterrupt",
     "evalue": "",
     "output_type": "error",
     "traceback": [
      "\u001b[0;31m---------------------------------------------------------------------------\u001b[0m",
      "\u001b[0;31mKeyboardInterrupt\u001b[0m                         Traceback (most recent call last)",
      "\u001b[0;32m<ipython-input-193-150b36a385ca>\u001b[0m in \u001b[0;36m<module>\u001b[0;34m()\u001b[0m\n\u001b[1;32m     11\u001b[0m     \u001b[0mr_sum\u001b[0m\u001b[0;34m[\u001b[0m\u001b[0;34m'bus_id'\u001b[0m\u001b[0;34m]\u001b[0m\u001b[0;34m[\u001b[0m\u001b[0mcount_reviews\u001b[0m\u001b[0;34m]\u001b[0m \u001b[0;34m=\u001b[0m \u001b[0mreview\u001b[0m\u001b[0;34m[\u001b[0m\u001b[0;34m'bus_id'\u001b[0m\u001b[0;34m]\u001b[0m\u001b[0;34m\u001b[0m\u001b[0m\n\u001b[1;32m     12\u001b[0m     \u001b[0mr_sum\u001b[0m\u001b[0;34m[\u001b[0m\u001b[0;34m'review_rating'\u001b[0m\u001b[0;34m]\u001b[0m\u001b[0;34m[\u001b[0m\u001b[0mcount_reviews\u001b[0m\u001b[0;34m]\u001b[0m \u001b[0;34m=\u001b[0m \u001b[0mreview\u001b[0m\u001b[0;34m[\u001b[0m\u001b[0;34m'review_rating'\u001b[0m\u001b[0;34m]\u001b[0m\u001b[0;34m\u001b[0m\u001b[0m\n\u001b[0;32m---> 13\u001b[0;31m     \u001b[0mr_sum\u001b[0m\u001b[0;34m[\u001b[0m\u001b[0;34m'sentiment'\u001b[0m\u001b[0;34m]\u001b[0m\u001b[0;34m[\u001b[0m\u001b[0mcount_reviews\u001b[0m\u001b[0;34m]\u001b[0m \u001b[0;34m=\u001b[0m \u001b[0mreview\u001b[0m\u001b[0;34m[\u001b[0m\u001b[0;34m'sentiment'\u001b[0m\u001b[0;34m]\u001b[0m\u001b[0;34m\u001b[0m\u001b[0m\n\u001b[0m\u001b[1;32m     14\u001b[0m     \u001b[0mr_sum\u001b[0m\u001b[0;34m[\u001b[0m\u001b[0;34m'cluster'\u001b[0m\u001b[0;34m]\u001b[0m\u001b[0;34m[\u001b[0m\u001b[0mcount_reviews\u001b[0m\u001b[0;34m]\u001b[0m \u001b[0;34m=\u001b[0m \u001b[0mreview\u001b[0m\u001b[0;34m[\u001b[0m\u001b[0;34m'cluster'\u001b[0m\u001b[0;34m]\u001b[0m\u001b[0;34m\u001b[0m\u001b[0m\n\u001b[1;32m     15\u001b[0m     \u001b[0mcount_reviews\u001b[0m\u001b[0;34m+=\u001b[0m\u001b[0;36m1\u001b[0m\u001b[0;34m\u001b[0m\u001b[0m\n",
      "\u001b[0;32m/anaconda3/lib/python3.6/site-packages/pandas/core/series.py\u001b[0m in \u001b[0;36m__setitem__\u001b[0;34m(self, key, value)\u001b[0m\n\u001b[1;32m    935\u001b[0m \u001b[0;34m\u001b[0m\u001b[0m\n\u001b[1;32m    936\u001b[0m         \u001b[0;31m# do the setitem\u001b[0m\u001b[0;34m\u001b[0m\u001b[0;34m\u001b[0m\u001b[0m\n\u001b[0;32m--> 937\u001b[0;31m         \u001b[0mcacher_needs_updating\u001b[0m \u001b[0;34m=\u001b[0m \u001b[0mself\u001b[0m\u001b[0;34m.\u001b[0m\u001b[0m_check_is_chained_assignment_possible\u001b[0m\u001b[0;34m(\u001b[0m\u001b[0;34m)\u001b[0m\u001b[0;34m\u001b[0m\u001b[0m\n\u001b[0m\u001b[1;32m    938\u001b[0m         \u001b[0msetitem\u001b[0m\u001b[0;34m(\u001b[0m\u001b[0mkey\u001b[0m\u001b[0;34m,\u001b[0m \u001b[0mvalue\u001b[0m\u001b[0;34m)\u001b[0m\u001b[0;34m\u001b[0m\u001b[0m\n\u001b[1;32m    939\u001b[0m         \u001b[0;32mif\u001b[0m \u001b[0mcacher_needs_updating\u001b[0m\u001b[0;34m:\u001b[0m\u001b[0;34m\u001b[0m\u001b[0m\n",
      "\u001b[0;32m/anaconda3/lib/python3.6/site-packages/pandas/core/generic.py\u001b[0m in \u001b[0;36m_check_is_chained_assignment_possible\u001b[0;34m(self)\u001b[0m\n\u001b[1;32m   2622\u001b[0m             \u001b[0;32mif\u001b[0m \u001b[0mref\u001b[0m \u001b[0;32mis\u001b[0m \u001b[0;32mnot\u001b[0m \u001b[0;32mNone\u001b[0m \u001b[0;32mand\u001b[0m \u001b[0mref\u001b[0m\u001b[0;34m.\u001b[0m\u001b[0m_is_mixed_type\u001b[0m\u001b[0;34m:\u001b[0m\u001b[0;34m\u001b[0m\u001b[0m\n\u001b[1;32m   2623\u001b[0m                 self._check_setitem_copy(stacklevel=4, t='referant',\n\u001b[0;32m-> 2624\u001b[0;31m                                          force=True)\n\u001b[0m\u001b[1;32m   2625\u001b[0m             \u001b[0;32mreturn\u001b[0m \u001b[0;32mTrue\u001b[0m\u001b[0;34m\u001b[0m\u001b[0m\n\u001b[1;32m   2626\u001b[0m         \u001b[0;32melif\u001b[0m \u001b[0mself\u001b[0m\u001b[0;34m.\u001b[0m\u001b[0m_is_copy\u001b[0m\u001b[0;34m:\u001b[0m\u001b[0;34m\u001b[0m\u001b[0m\n",
      "\u001b[0;32m/anaconda3/lib/python3.6/site-packages/pandas/core/generic.py\u001b[0m in \u001b[0;36m_check_setitem_copy\u001b[0;34m(self, stacklevel, t, force)\u001b[0m\n\u001b[1;32m   2668\u001b[0m             \u001b[0;31m# the copy weakref\u001b[0m\u001b[0;34m\u001b[0m\u001b[0;34m\u001b[0m\u001b[0m\n\u001b[1;32m   2669\u001b[0m             \u001b[0;32mtry\u001b[0m\u001b[0;34m:\u001b[0m\u001b[0;34m\u001b[0m\u001b[0m\n\u001b[0;32m-> 2670\u001b[0;31m                 \u001b[0mgc\u001b[0m\u001b[0;34m.\u001b[0m\u001b[0mcollect\u001b[0m\u001b[0;34m(\u001b[0m\u001b[0;36m2\u001b[0m\u001b[0;34m)\u001b[0m\u001b[0;34m\u001b[0m\u001b[0m\n\u001b[0m\u001b[1;32m   2671\u001b[0m                 \u001b[0;32mif\u001b[0m \u001b[0;32mnot\u001b[0m \u001b[0mgc\u001b[0m\u001b[0;34m.\u001b[0m\u001b[0mget_referents\u001b[0m\u001b[0;34m(\u001b[0m\u001b[0mself\u001b[0m\u001b[0;34m.\u001b[0m\u001b[0m_is_copy\u001b[0m\u001b[0;34m(\u001b[0m\u001b[0;34m)\u001b[0m\u001b[0;34m)\u001b[0m\u001b[0;34m:\u001b[0m\u001b[0;34m\u001b[0m\u001b[0m\n\u001b[1;32m   2672\u001b[0m                     \u001b[0mself\u001b[0m\u001b[0;34m.\u001b[0m\u001b[0m_is_copy\u001b[0m \u001b[0;34m=\u001b[0m \u001b[0;32mNone\u001b[0m\u001b[0;34m\u001b[0m\u001b[0m\n",
      "\u001b[0;31mKeyboardInterrupt\u001b[0m: "
     ]
    }
   ],
   "source": [
    "reviews = rdb.find({'cluster': {'$exists': True}}, {'_id': False, 'bus_id': True, 'review_id': True, 'review_rating': True, 'sentiment': True, 'cluster': True })\n",
    "\n",
    "nbr_reviews = rdb.count_documents({'cluster': {'$exists': True}})\n",
    "r_sum = np.zeros((nbr_reviews, 4))\n",
    "r_sum = pd.DataFrame(r_sum)\n",
    "r_sum.columns = ['bus_id', 'review_rating', 'sentiment', 'cluster']\n",
    "\n",
    "count_reviews = 0\n",
    "\n",
    "for review in reviews:\n",
    "    r_sum['bus_id'][count_reviews] = review['bus_id']\n",
    "    r_sum['review_rating'][count_reviews] = review['review_rating']\n",
    "    r_sum['sentiment'][count_reviews] = review['sentiment']\n",
    "    r_sum['cluster'][count_reviews] = review['cluster']\n",
    "    count_reviews+=1"
   ]
  },
  {
   "cell_type": "code",
   "execution_count": 182,
   "metadata": {},
   "outputs": [],
   "source": [
    "r_sum = pd.DataFrame(r_sum)"
   ]
  },
  {
   "cell_type": "code",
   "execution_count": 194,
   "metadata": {
    "scrolled": true
   },
   "outputs": [
    {
     "data": {
      "text/html": [
       "<div>\n",
       "<style scoped>\n",
       "    .dataframe tbody tr th:only-of-type {\n",
       "        vertical-align: middle;\n",
       "    }\n",
       "\n",
       "    .dataframe tbody tr th {\n",
       "        vertical-align: top;\n",
       "    }\n",
       "\n",
       "    .dataframe thead th {\n",
       "        text-align: right;\n",
       "    }\n",
       "</style>\n",
       "<table border=\"1\" class=\"dataframe\">\n",
       "  <thead>\n",
       "    <tr style=\"text-align: right;\">\n",
       "      <th></th>\n",
       "      <th>bus_id</th>\n",
       "      <th>review_rating</th>\n",
       "      <th>sentiment</th>\n",
       "      <th>cluster</th>\n",
       "    </tr>\n",
       "  </thead>\n",
       "  <tbody>\n",
       "    <tr>\n",
       "      <th>0</th>\n",
       "      <td>l9hrfKGeERWnuoUghxv5hw</td>\n",
       "      <td>5.0</td>\n",
       "      <td>Good</td>\n",
       "      <td>Bar</td>\n",
       "    </tr>\n",
       "    <tr>\n",
       "      <th>1</th>\n",
       "      <td>l9hrfKGeERWnuoUghxv5hw</td>\n",
       "      <td>1.0</td>\n",
       "      <td>Bad</td>\n",
       "      <td>Good Service</td>\n",
       "    </tr>\n",
       "    <tr>\n",
       "      <th>2</th>\n",
       "      <td>l9hrfKGeERWnuoUghxv5hw</td>\n",
       "      <td>2.0</td>\n",
       "      <td>Good</td>\n",
       "      <td>Good Service</td>\n",
       "    </tr>\n",
       "    <tr>\n",
       "      <th>3</th>\n",
       "      <td>l9hrfKGeERWnuoUghxv5hw</td>\n",
       "      <td>1.0</td>\n",
       "      <td>Bad</td>\n",
       "      <td>Bar</td>\n",
       "    </tr>\n",
       "    <tr>\n",
       "      <th>4</th>\n",
       "      <td>l9hrfKGeERWnuoUghxv5hw</td>\n",
       "      <td>3.0</td>\n",
       "      <td>Good</td>\n",
       "      <td>Bar</td>\n",
       "    </tr>\n",
       "    <tr>\n",
       "      <th>5</th>\n",
       "      <td>TwVg1J7VMkV53L3Tv6ak1w</td>\n",
       "      <td>5.0</td>\n",
       "      <td>Good</td>\n",
       "      <td>Park</td>\n",
       "    </tr>\n",
       "    <tr>\n",
       "      <th>6</th>\n",
       "      <td>nKjpfthuOwNy6iB6R9YRLQ</td>\n",
       "      <td>5.0</td>\n",
       "      <td>Good</td>\n",
       "      <td>Park</td>\n",
       "    </tr>\n",
       "    <tr>\n",
       "      <th>7</th>\n",
       "      <td>nKjpfthuOwNy6iB6R9YRLQ</td>\n",
       "      <td>5.0</td>\n",
       "      <td>Good</td>\n",
       "      <td>Park</td>\n",
       "    </tr>\n",
       "    <tr>\n",
       "      <th>8</th>\n",
       "      <td>nKjpfthuOwNy6iB6R9YRLQ</td>\n",
       "      <td>4.0</td>\n",
       "      <td>Good</td>\n",
       "      <td>Park</td>\n",
       "    </tr>\n",
       "    <tr>\n",
       "      <th>9</th>\n",
       "      <td>nKjpfthuOwNy6iB6R9YRLQ</td>\n",
       "      <td>3.0</td>\n",
       "      <td>Bad</td>\n",
       "      <td>Park</td>\n",
       "    </tr>\n",
       "    <tr>\n",
       "      <th>10</th>\n",
       "      <td>nKjpfthuOwNy6iB6R9YRLQ</td>\n",
       "      <td>4.0</td>\n",
       "      <td>Good</td>\n",
       "      <td>Park</td>\n",
       "    </tr>\n",
       "    <tr>\n",
       "      <th>11</th>\n",
       "      <td>-ot4Xd6GxSUOqwUj7okZuA</td>\n",
       "      <td>5.0</td>\n",
       "      <td>Good</td>\n",
       "      <td>Burgers</td>\n",
       "    </tr>\n",
       "    <tr>\n",
       "      <th>12</th>\n",
       "      <td>-ot4Xd6GxSUOqwUj7okZuA</td>\n",
       "      <td>4.0</td>\n",
       "      <td>Bad</td>\n",
       "      <td>Burgers</td>\n",
       "    </tr>\n",
       "    <tr>\n",
       "      <th>13</th>\n",
       "      <td>-ot4Xd6GxSUOqwUj7okZuA</td>\n",
       "      <td>4.0</td>\n",
       "      <td>Bad</td>\n",
       "      <td>Good Service</td>\n",
       "    </tr>\n",
       "    <tr>\n",
       "      <th>14</th>\n",
       "      <td>-ot4Xd6GxSUOqwUj7okZuA</td>\n",
       "      <td>5.0</td>\n",
       "      <td>Good</td>\n",
       "      <td>Burgers</td>\n",
       "    </tr>\n",
       "    <tr>\n",
       "      <th>15</th>\n",
       "      <td>-ot4Xd6GxSUOqwUj7okZuA</td>\n",
       "      <td>5.0</td>\n",
       "      <td>Good</td>\n",
       "      <td>Burgers</td>\n",
       "    </tr>\n",
       "    <tr>\n",
       "      <th>16</th>\n",
       "      <td>-ot4Xd6GxSUOqwUj7okZuA</td>\n",
       "      <td>4.0</td>\n",
       "      <td>Good</td>\n",
       "      <td>Burgers</td>\n",
       "    </tr>\n",
       "    <tr>\n",
       "      <th>17</th>\n",
       "      <td>-ot4Xd6GxSUOqwUj7okZuA</td>\n",
       "      <td>5.0</td>\n",
       "      <td>Good</td>\n",
       "      <td>Good Service</td>\n",
       "    </tr>\n",
       "    <tr>\n",
       "      <th>18</th>\n",
       "      <td>-ot4Xd6GxSUOqwUj7okZuA</td>\n",
       "      <td>3.0</td>\n",
       "      <td>Good</td>\n",
       "      <td>Burgers</td>\n",
       "    </tr>\n",
       "    <tr>\n",
       "      <th>19</th>\n",
       "      <td>-ot4Xd6GxSUOqwUj7okZuA</td>\n",
       "      <td>5.0</td>\n",
       "      <td>Good</td>\n",
       "      <td>Good Service</td>\n",
       "    </tr>\n",
       "    <tr>\n",
       "      <th>20</th>\n",
       "      <td>-ot4Xd6GxSUOqwUj7okZuA</td>\n",
       "      <td>5.0</td>\n",
       "      <td>Good</td>\n",
       "      <td>Burgers</td>\n",
       "    </tr>\n",
       "    <tr>\n",
       "      <th>21</th>\n",
       "      <td>-ot4Xd6GxSUOqwUj7okZuA</td>\n",
       "      <td>5.0</td>\n",
       "      <td>Good</td>\n",
       "      <td>Burgers</td>\n",
       "    </tr>\n",
       "    <tr>\n",
       "      <th>22</th>\n",
       "      <td>-ot4Xd6GxSUOqwUj7okZuA</td>\n",
       "      <td>5.0</td>\n",
       "      <td>Good</td>\n",
       "      <td>Burgers</td>\n",
       "    </tr>\n",
       "    <tr>\n",
       "      <th>23</th>\n",
       "      <td>-ot4Xd6GxSUOqwUj7okZuA</td>\n",
       "      <td>5.0</td>\n",
       "      <td>Good</td>\n",
       "      <td>Hot Dogs</td>\n",
       "    </tr>\n",
       "    <tr>\n",
       "      <th>24</th>\n",
       "      <td>-ot4Xd6GxSUOqwUj7okZuA</td>\n",
       "      <td>5.0</td>\n",
       "      <td>Good</td>\n",
       "      <td>Burgers</td>\n",
       "    </tr>\n",
       "    <tr>\n",
       "      <th>25</th>\n",
       "      <td>-ot4Xd6GxSUOqwUj7okZuA</td>\n",
       "      <td>5.0</td>\n",
       "      <td>Good</td>\n",
       "      <td>Burgers</td>\n",
       "    </tr>\n",
       "    <tr>\n",
       "      <th>26</th>\n",
       "      <td>-ot4Xd6GxSUOqwUj7okZuA</td>\n",
       "      <td>5.0</td>\n",
       "      <td>Good</td>\n",
       "      <td>Good Service</td>\n",
       "    </tr>\n",
       "    <tr>\n",
       "      <th>27</th>\n",
       "      <td>-ot4Xd6GxSUOqwUj7okZuA</td>\n",
       "      <td>5.0</td>\n",
       "      <td>Good</td>\n",
       "      <td>Burgers</td>\n",
       "    </tr>\n",
       "    <tr>\n",
       "      <th>28</th>\n",
       "      <td>-ot4Xd6GxSUOqwUj7okZuA</td>\n",
       "      <td>5.0</td>\n",
       "      <td>Good</td>\n",
       "      <td>Burgers</td>\n",
       "    </tr>\n",
       "    <tr>\n",
       "      <th>29</th>\n",
       "      <td>-ot4Xd6GxSUOqwUj7okZuA</td>\n",
       "      <td>5.0</td>\n",
       "      <td>Good</td>\n",
       "      <td>Burgers</td>\n",
       "    </tr>\n",
       "    <tr>\n",
       "      <th>...</th>\n",
       "      <td>...</td>\n",
       "      <td>...</td>\n",
       "      <td>...</td>\n",
       "      <td>...</td>\n",
       "    </tr>\n",
       "    <tr>\n",
       "      <th>19367</th>\n",
       "      <td>llQfDCKPXBW1-hSb_qUC-g</td>\n",
       "      <td>5.0</td>\n",
       "      <td>Good</td>\n",
       "      <td>Bar</td>\n",
       "    </tr>\n",
       "    <tr>\n",
       "      <th>19368</th>\n",
       "      <td>llQfDCKPXBW1-hSb_qUC-g</td>\n",
       "      <td>5.0</td>\n",
       "      <td>Good</td>\n",
       "      <td>Good Service</td>\n",
       "    </tr>\n",
       "    <tr>\n",
       "      <th>19369</th>\n",
       "      <td>llQfDCKPXBW1-hSb_qUC-g</td>\n",
       "      <td>4.0</td>\n",
       "      <td>Good</td>\n",
       "      <td>Good Service</td>\n",
       "    </tr>\n",
       "    <tr>\n",
       "      <th>19370</th>\n",
       "      <td>llQfDCKPXBW1-hSb_qUC-g</td>\n",
       "      <td>5.0</td>\n",
       "      <td>Good</td>\n",
       "      <td>Good Service</td>\n",
       "    </tr>\n",
       "    <tr>\n",
       "      <th>19371</th>\n",
       "      <td>llQfDCKPXBW1-hSb_qUC-g</td>\n",
       "      <td>4.0</td>\n",
       "      <td>Good</td>\n",
       "      <td>Good Service</td>\n",
       "    </tr>\n",
       "    <tr>\n",
       "      <th>19372</th>\n",
       "      <td>llQfDCKPXBW1-hSb_qUC-g</td>\n",
       "      <td>4.0</td>\n",
       "      <td>Good</td>\n",
       "      <td>Chinese</td>\n",
       "    </tr>\n",
       "    <tr>\n",
       "      <th>19373</th>\n",
       "      <td>llQfDCKPXBW1-hSb_qUC-g</td>\n",
       "      <td>5.0</td>\n",
       "      <td>Good</td>\n",
       "      <td>Dinner</td>\n",
       "    </tr>\n",
       "    <tr>\n",
       "      <th>19374</th>\n",
       "      <td>llQfDCKPXBW1-hSb_qUC-g</td>\n",
       "      <td>3.0</td>\n",
       "      <td>Bad</td>\n",
       "      <td>Good Service</td>\n",
       "    </tr>\n",
       "    <tr>\n",
       "      <th>19375</th>\n",
       "      <td>llQfDCKPXBW1-hSb_qUC-g</td>\n",
       "      <td>3.0</td>\n",
       "      <td>Good</td>\n",
       "      <td>Good Service</td>\n",
       "    </tr>\n",
       "    <tr>\n",
       "      <th>19376</th>\n",
       "      <td>llQfDCKPXBW1-hSb_qUC-g</td>\n",
       "      <td>5.0</td>\n",
       "      <td>Good</td>\n",
       "      <td>Good Service</td>\n",
       "    </tr>\n",
       "    <tr>\n",
       "      <th>19377</th>\n",
       "      <td>llQfDCKPXBW1-hSb_qUC-g</td>\n",
       "      <td>5.0</td>\n",
       "      <td>Good</td>\n",
       "      <td>Chinese</td>\n",
       "    </tr>\n",
       "    <tr>\n",
       "      <th>19378</th>\n",
       "      <td>llQfDCKPXBW1-hSb_qUC-g</td>\n",
       "      <td>5.0</td>\n",
       "      <td>Good</td>\n",
       "      <td>Chinese</td>\n",
       "    </tr>\n",
       "    <tr>\n",
       "      <th>19379</th>\n",
       "      <td>llQfDCKPXBW1-hSb_qUC-g</td>\n",
       "      <td>5.0</td>\n",
       "      <td>Good</td>\n",
       "      <td>Good Service</td>\n",
       "    </tr>\n",
       "    <tr>\n",
       "      <th>19380</th>\n",
       "      <td>llQfDCKPXBW1-hSb_qUC-g</td>\n",
       "      <td>5.0</td>\n",
       "      <td>Good</td>\n",
       "      <td>Good Service</td>\n",
       "    </tr>\n",
       "    <tr>\n",
       "      <th>19381</th>\n",
       "      <td>llQfDCKPXBW1-hSb_qUC-g</td>\n",
       "      <td>4.0</td>\n",
       "      <td>Good</td>\n",
       "      <td>Good Service</td>\n",
       "    </tr>\n",
       "    <tr>\n",
       "      <th>19382</th>\n",
       "      <td>llQfDCKPXBW1-hSb_qUC-g</td>\n",
       "      <td>5.0</td>\n",
       "      <td>Good</td>\n",
       "      <td>Good Service</td>\n",
       "    </tr>\n",
       "    <tr>\n",
       "      <th>19383</th>\n",
       "      <td>llQfDCKPXBW1-hSb_qUC-g</td>\n",
       "      <td>5.0</td>\n",
       "      <td>Good</td>\n",
       "      <td>Good Service</td>\n",
       "    </tr>\n",
       "    <tr>\n",
       "      <th>19384</th>\n",
       "      <td>llQfDCKPXBW1-hSb_qUC-g</td>\n",
       "      <td>4.0</td>\n",
       "      <td>Good</td>\n",
       "      <td>Good Service</td>\n",
       "    </tr>\n",
       "    <tr>\n",
       "      <th>19385</th>\n",
       "      <td>llQfDCKPXBW1-hSb_qUC-g</td>\n",
       "      <td>4.0</td>\n",
       "      <td>Good</td>\n",
       "      <td>Chinese</td>\n",
       "    </tr>\n",
       "    <tr>\n",
       "      <th>19386</th>\n",
       "      <td>llQfDCKPXBW1-hSb_qUC-g</td>\n",
       "      <td>4.0</td>\n",
       "      <td>Good</td>\n",
       "      <td>Good Service</td>\n",
       "    </tr>\n",
       "    <tr>\n",
       "      <th>19387</th>\n",
       "      <td>EVm2u6MmjHW6fc_0E1bSWw</td>\n",
       "      <td>4.0</td>\n",
       "      <td>Good</td>\n",
       "      <td>Coffee/Donuts</td>\n",
       "    </tr>\n",
       "    <tr>\n",
       "      <th>19388</th>\n",
       "      <td>EVm2u6MmjHW6fc_0E1bSWw</td>\n",
       "      <td>1.0</td>\n",
       "      <td>Bad</td>\n",
       "      <td>Coffee/Donuts</td>\n",
       "    </tr>\n",
       "    <tr>\n",
       "      <th>19389</th>\n",
       "      <td>EVm2u6MmjHW6fc_0E1bSWw</td>\n",
       "      <td>4.0</td>\n",
       "      <td>Good</td>\n",
       "      <td>Coffee/Donuts</td>\n",
       "    </tr>\n",
       "    <tr>\n",
       "      <th>19390</th>\n",
       "      <td>EVm2u6MmjHW6fc_0E1bSWw</td>\n",
       "      <td>5.0</td>\n",
       "      <td>Good</td>\n",
       "      <td>Coffee/Donuts</td>\n",
       "    </tr>\n",
       "    <tr>\n",
       "      <th>19391</th>\n",
       "      <td>EVm2u6MmjHW6fc_0E1bSWw</td>\n",
       "      <td>5.0</td>\n",
       "      <td>Good</td>\n",
       "      <td>Coffee/Donuts</td>\n",
       "    </tr>\n",
       "    <tr>\n",
       "      <th>19392</th>\n",
       "      <td>EVm2u6MmjHW6fc_0E1bSWw</td>\n",
       "      <td>1.0</td>\n",
       "      <td>Bad</td>\n",
       "      <td>Good Service</td>\n",
       "    </tr>\n",
       "    <tr>\n",
       "      <th>19393</th>\n",
       "      <td>EVm2u6MmjHW6fc_0E1bSWw</td>\n",
       "      <td>2.0</td>\n",
       "      <td>Bad</td>\n",
       "      <td>Coffee/Donuts</td>\n",
       "    </tr>\n",
       "    <tr>\n",
       "      <th>19394</th>\n",
       "      <td>EVm2u6MmjHW6fc_0E1bSWw</td>\n",
       "      <td>5.0</td>\n",
       "      <td>Bad</td>\n",
       "      <td>Long Wait</td>\n",
       "    </tr>\n",
       "    <tr>\n",
       "      <th>19395</th>\n",
       "      <td>EVm2u6MmjHW6fc_0E1bSWw</td>\n",
       "      <td>5.0</td>\n",
       "      <td>Good</td>\n",
       "      <td>Coffee/Donuts</td>\n",
       "    </tr>\n",
       "    <tr>\n",
       "      <th>19396</th>\n",
       "      <td>EVm2u6MmjHW6fc_0E1bSWw</td>\n",
       "      <td>5.0</td>\n",
       "      <td>0</td>\n",
       "      <td>0</td>\n",
       "    </tr>\n",
       "  </tbody>\n",
       "</table>\n",
       "<p>19397 rows × 4 columns</p>\n",
       "</div>"
      ],
      "text/plain": [
       "                       bus_id  review_rating sentiment        cluster\n",
       "0      l9hrfKGeERWnuoUghxv5hw            5.0      Good            Bar\n",
       "1      l9hrfKGeERWnuoUghxv5hw            1.0       Bad   Good Service\n",
       "2      l9hrfKGeERWnuoUghxv5hw            2.0      Good   Good Service\n",
       "3      l9hrfKGeERWnuoUghxv5hw            1.0       Bad            Bar\n",
       "4      l9hrfKGeERWnuoUghxv5hw            3.0      Good            Bar\n",
       "5      TwVg1J7VMkV53L3Tv6ak1w            5.0      Good           Park\n",
       "6      nKjpfthuOwNy6iB6R9YRLQ            5.0      Good           Park\n",
       "7      nKjpfthuOwNy6iB6R9YRLQ            5.0      Good           Park\n",
       "8      nKjpfthuOwNy6iB6R9YRLQ            4.0      Good           Park\n",
       "9      nKjpfthuOwNy6iB6R9YRLQ            3.0       Bad           Park\n",
       "10     nKjpfthuOwNy6iB6R9YRLQ            4.0      Good           Park\n",
       "11     -ot4Xd6GxSUOqwUj7okZuA            5.0      Good        Burgers\n",
       "12     -ot4Xd6GxSUOqwUj7okZuA            4.0       Bad        Burgers\n",
       "13     -ot4Xd6GxSUOqwUj7okZuA            4.0       Bad   Good Service\n",
       "14     -ot4Xd6GxSUOqwUj7okZuA            5.0      Good        Burgers\n",
       "15     -ot4Xd6GxSUOqwUj7okZuA            5.0      Good        Burgers\n",
       "16     -ot4Xd6GxSUOqwUj7okZuA            4.0      Good        Burgers\n",
       "17     -ot4Xd6GxSUOqwUj7okZuA            5.0      Good   Good Service\n",
       "18     -ot4Xd6GxSUOqwUj7okZuA            3.0      Good        Burgers\n",
       "19     -ot4Xd6GxSUOqwUj7okZuA            5.0      Good   Good Service\n",
       "20     -ot4Xd6GxSUOqwUj7okZuA            5.0      Good        Burgers\n",
       "21     -ot4Xd6GxSUOqwUj7okZuA            5.0      Good        Burgers\n",
       "22     -ot4Xd6GxSUOqwUj7okZuA            5.0      Good        Burgers\n",
       "23     -ot4Xd6GxSUOqwUj7okZuA            5.0      Good       Hot Dogs\n",
       "24     -ot4Xd6GxSUOqwUj7okZuA            5.0      Good        Burgers\n",
       "25     -ot4Xd6GxSUOqwUj7okZuA            5.0      Good        Burgers\n",
       "26     -ot4Xd6GxSUOqwUj7okZuA            5.0      Good   Good Service\n",
       "27     -ot4Xd6GxSUOqwUj7okZuA            5.0      Good        Burgers\n",
       "28     -ot4Xd6GxSUOqwUj7okZuA            5.0      Good        Burgers\n",
       "29     -ot4Xd6GxSUOqwUj7okZuA            5.0      Good        Burgers\n",
       "...                       ...            ...       ...            ...\n",
       "19367  llQfDCKPXBW1-hSb_qUC-g            5.0      Good            Bar\n",
       "19368  llQfDCKPXBW1-hSb_qUC-g            5.0      Good   Good Service\n",
       "19369  llQfDCKPXBW1-hSb_qUC-g            4.0      Good   Good Service\n",
       "19370  llQfDCKPXBW1-hSb_qUC-g            5.0      Good   Good Service\n",
       "19371  llQfDCKPXBW1-hSb_qUC-g            4.0      Good   Good Service\n",
       "19372  llQfDCKPXBW1-hSb_qUC-g            4.0      Good        Chinese\n",
       "19373  llQfDCKPXBW1-hSb_qUC-g            5.0      Good         Dinner\n",
       "19374  llQfDCKPXBW1-hSb_qUC-g            3.0       Bad   Good Service\n",
       "19375  llQfDCKPXBW1-hSb_qUC-g            3.0      Good   Good Service\n",
       "19376  llQfDCKPXBW1-hSb_qUC-g            5.0      Good   Good Service\n",
       "19377  llQfDCKPXBW1-hSb_qUC-g            5.0      Good        Chinese\n",
       "19378  llQfDCKPXBW1-hSb_qUC-g            5.0      Good        Chinese\n",
       "19379  llQfDCKPXBW1-hSb_qUC-g            5.0      Good   Good Service\n",
       "19380  llQfDCKPXBW1-hSb_qUC-g            5.0      Good   Good Service\n",
       "19381  llQfDCKPXBW1-hSb_qUC-g            4.0      Good   Good Service\n",
       "19382  llQfDCKPXBW1-hSb_qUC-g            5.0      Good   Good Service\n",
       "19383  llQfDCKPXBW1-hSb_qUC-g            5.0      Good   Good Service\n",
       "19384  llQfDCKPXBW1-hSb_qUC-g            4.0      Good   Good Service\n",
       "19385  llQfDCKPXBW1-hSb_qUC-g            4.0      Good        Chinese\n",
       "19386  llQfDCKPXBW1-hSb_qUC-g            4.0      Good   Good Service\n",
       "19387  EVm2u6MmjHW6fc_0E1bSWw            4.0      Good  Coffee/Donuts\n",
       "19388  EVm2u6MmjHW6fc_0E1bSWw            1.0       Bad  Coffee/Donuts\n",
       "19389  EVm2u6MmjHW6fc_0E1bSWw            4.0      Good  Coffee/Donuts\n",
       "19390  EVm2u6MmjHW6fc_0E1bSWw            5.0      Good  Coffee/Donuts\n",
       "19391  EVm2u6MmjHW6fc_0E1bSWw            5.0      Good  Coffee/Donuts\n",
       "19392  EVm2u6MmjHW6fc_0E1bSWw            1.0       Bad   Good Service\n",
       "19393  EVm2u6MmjHW6fc_0E1bSWw            2.0       Bad  Coffee/Donuts\n",
       "19394  EVm2u6MmjHW6fc_0E1bSWw            5.0       Bad      Long Wait\n",
       "19395  EVm2u6MmjHW6fc_0E1bSWw            5.0      Good  Coffee/Donuts\n",
       "19396  EVm2u6MmjHW6fc_0E1bSWw            5.0         0              0\n",
       "\n",
       "[19397 rows x 4 columns]"
      ]
     },
     "execution_count": 194,
     "metadata": {},
     "output_type": "execute_result"
    }
   ],
   "source": [
    "r_sum[r_sum['review_rating']!=0.0]"
   ]
  },
  {
   "cell_type": "code",
   "execution_count": 185,
   "metadata": {},
   "outputs": [],
   "source": [
    "r_sum.columns = ['bus_id', 'review_rating', 'sentiment', 'cluster']"
   ]
  },
  {
   "cell_type": "code",
   "execution_count": 188,
   "metadata": {},
   "outputs": [],
   "source": [
    "r_sum['bus_id'][] = 'test'"
   ]
  },
  {
   "cell_type": "code",
   "execution_count": 195,
   "metadata": {},
   "outputs": [
    {
     "data": {
      "text/html": [
       "<div>\n",
       "<style scoped>\n",
       "    .dataframe tbody tr th:only-of-type {\n",
       "        vertical-align: middle;\n",
       "    }\n",
       "\n",
       "    .dataframe tbody tr th {\n",
       "        vertical-align: top;\n",
       "    }\n",
       "\n",
       "    .dataframe thead tr th {\n",
       "        text-align: left;\n",
       "    }\n",
       "\n",
       "    .dataframe thead tr:last-of-type th {\n",
       "        text-align: right;\n",
       "    }\n",
       "</style>\n",
       "<table border=\"1\" class=\"dataframe\">\n",
       "  <thead>\n",
       "    <tr>\n",
       "      <th></th>\n",
       "      <th colspan=\"3\" halign=\"left\">bus_id</th>\n",
       "      <th colspan=\"3\" halign=\"left\">cluster</th>\n",
       "    </tr>\n",
       "    <tr>\n",
       "      <th>sentiment</th>\n",
       "      <th>0.0</th>\n",
       "      <th>Bad</th>\n",
       "      <th>Good</th>\n",
       "      <th>0.0</th>\n",
       "      <th>Bad</th>\n",
       "      <th>Good</th>\n",
       "    </tr>\n",
       "    <tr>\n",
       "      <th>review_rating</th>\n",
       "      <th></th>\n",
       "      <th></th>\n",
       "      <th></th>\n",
       "      <th></th>\n",
       "      <th></th>\n",
       "      <th></th>\n",
       "    </tr>\n",
       "  </thead>\n",
       "  <tbody>\n",
       "    <tr>\n",
       "      <th>0.0</th>\n",
       "      <td>4707.0</td>\n",
       "      <td>NaN</td>\n",
       "      <td>NaN</td>\n",
       "      <td>4707.0</td>\n",
       "      <td>NaN</td>\n",
       "      <td>NaN</td>\n",
       "    </tr>\n",
       "    <tr>\n",
       "      <th>1.0</th>\n",
       "      <td>NaN</td>\n",
       "      <td>3899.0</td>\n",
       "      <td>118.0</td>\n",
       "      <td>NaN</td>\n",
       "      <td>3899.0</td>\n",
       "      <td>118.0</td>\n",
       "    </tr>\n",
       "    <tr>\n",
       "      <th>2.0</th>\n",
       "      <td>NaN</td>\n",
       "      <td>1561.0</td>\n",
       "      <td>249.0</td>\n",
       "      <td>NaN</td>\n",
       "      <td>1561.0</td>\n",
       "      <td>249.0</td>\n",
       "    </tr>\n",
       "    <tr>\n",
       "      <th>3.0</th>\n",
       "      <td>NaN</td>\n",
       "      <td>1192.0</td>\n",
       "      <td>914.0</td>\n",
       "      <td>NaN</td>\n",
       "      <td>1192.0</td>\n",
       "      <td>914.0</td>\n",
       "    </tr>\n",
       "    <tr>\n",
       "      <th>4.0</th>\n",
       "      <td>NaN</td>\n",
       "      <td>602.0</td>\n",
       "      <td>3219.0</td>\n",
       "      <td>NaN</td>\n",
       "      <td>602.0</td>\n",
       "      <td>3219.0</td>\n",
       "    </tr>\n",
       "    <tr>\n",
       "      <th>5.0</th>\n",
       "      <td>1.0</td>\n",
       "      <td>710.0</td>\n",
       "      <td>6932.0</td>\n",
       "      <td>1.0</td>\n",
       "      <td>710.0</td>\n",
       "      <td>6932.0</td>\n",
       "    </tr>\n",
       "  </tbody>\n",
       "</table>\n",
       "</div>"
      ],
      "text/plain": [
       "               bus_id                 cluster                \n",
       "sentiment         0.0     Bad    Good     0.0     Bad    Good\n",
       "review_rating                                                \n",
       "0.0            4707.0     NaN     NaN  4707.0     NaN     NaN\n",
       "1.0               NaN  3899.0   118.0     NaN  3899.0   118.0\n",
       "2.0               NaN  1561.0   249.0     NaN  1561.0   249.0\n",
       "3.0               NaN  1192.0   914.0     NaN  1192.0   914.0\n",
       "4.0               NaN   602.0  3219.0     NaN   602.0  3219.0\n",
       "5.0               1.0   710.0  6932.0     1.0   710.0  6932.0"
      ]
     },
     "execution_count": 195,
     "metadata": {},
     "output_type": "execute_result"
    }
   ],
   "source": [
    "r_sum.pivot_table(index='review_rating', columns='sentiment', aggfunc='count')"
   ]
  },
  {
   "cell_type": "code",
   "execution_count": 199,
   "metadata": {
    "collapsed": true
   },
   "outputs": [
    {
     "ename": "KeyError",
     "evalue": "'review_ratin'",
     "output_type": "error",
     "traceback": [
      "\u001b[0;31m---------------------------------------------------------------------------\u001b[0m",
      "\u001b[0;31mKeyError\u001b[0m                                  Traceback (most recent call last)",
      "\u001b[0;32m/anaconda3/lib/python3.6/site-packages/pandas/core/indexes/base.py\u001b[0m in \u001b[0;36mget_loc\u001b[0;34m(self, key, method, tolerance)\u001b[0m\n\u001b[1;32m   3062\u001b[0m             \u001b[0;32mtry\u001b[0m\u001b[0;34m:\u001b[0m\u001b[0;34m\u001b[0m\u001b[0m\n\u001b[0;32m-> 3063\u001b[0;31m                 \u001b[0;32mreturn\u001b[0m \u001b[0mself\u001b[0m\u001b[0;34m.\u001b[0m\u001b[0m_engine\u001b[0m\u001b[0;34m.\u001b[0m\u001b[0mget_loc\u001b[0m\u001b[0;34m(\u001b[0m\u001b[0mkey\u001b[0m\u001b[0;34m)\u001b[0m\u001b[0;34m\u001b[0m\u001b[0m\n\u001b[0m\u001b[1;32m   3064\u001b[0m             \u001b[0;32mexcept\u001b[0m \u001b[0mKeyError\u001b[0m\u001b[0;34m:\u001b[0m\u001b[0;34m\u001b[0m\u001b[0m\n",
      "\u001b[0;32mpandas/_libs/index.pyx\u001b[0m in \u001b[0;36mpandas._libs.index.IndexEngine.get_loc\u001b[0;34m()\u001b[0m\n",
      "\u001b[0;32mpandas/_libs/index.pyx\u001b[0m in \u001b[0;36mpandas._libs.index.IndexEngine.get_loc\u001b[0;34m()\u001b[0m\n",
      "\u001b[0;32mpandas/_libs/hashtable_class_helper.pxi\u001b[0m in \u001b[0;36mpandas._libs.hashtable.PyObjectHashTable.get_item\u001b[0;34m()\u001b[0m\n",
      "\u001b[0;32mpandas/_libs/hashtable_class_helper.pxi\u001b[0m in \u001b[0;36mpandas._libs.hashtable.PyObjectHashTable.get_item\u001b[0;34m()\u001b[0m\n",
      "\u001b[0;31mKeyError\u001b[0m: 'review_ratin'",
      "\nDuring handling of the above exception, another exception occurred:\n",
      "\u001b[0;31mKeyError\u001b[0m                                  Traceback (most recent call last)",
      "\u001b[0;32m<ipython-input-199-d760394295d4>\u001b[0m in \u001b[0;36m<module>\u001b[0;34m()\u001b[0m\n\u001b[0;32m----> 1\u001b[0;31m \u001b[0mr_sum\u001b[0m\u001b[0;34m[\u001b[0m\u001b[0mr_sum\u001b[0m\u001b[0;34m[\u001b[0m\u001b[0;34m'sentiment'\u001b[0m\u001b[0;34m]\u001b[0m\u001b[0;34m==\u001b[0m\u001b[0;34m'Good'\u001b[0m\u001b[0;34m]\u001b[0m\u001b[0;34m[\u001b[0m\u001b[0mr_sum\u001b[0m\u001b[0;34m[\u001b[0m\u001b[0;34m'review_ratin'\u001b[0m\u001b[0;34m]\u001b[0m\u001b[0;34m==\u001b[0m\u001b[0;36m5.0\u001b[0m\u001b[0;34m]\u001b[0m\u001b[0;34m.\u001b[0m\u001b[0mcount\u001b[0m\u001b[0;34m(\u001b[0m\u001b[0;34m)\u001b[0m\u001b[0;34m\u001b[0m\u001b[0m\n\u001b[0m",
      "\u001b[0;32m/anaconda3/lib/python3.6/site-packages/pandas/core/frame.py\u001b[0m in \u001b[0;36m__getitem__\u001b[0;34m(self, key)\u001b[0m\n\u001b[1;32m   2683\u001b[0m             \u001b[0;32mreturn\u001b[0m \u001b[0mself\u001b[0m\u001b[0;34m.\u001b[0m\u001b[0m_getitem_multilevel\u001b[0m\u001b[0;34m(\u001b[0m\u001b[0mkey\u001b[0m\u001b[0;34m)\u001b[0m\u001b[0;34m\u001b[0m\u001b[0m\n\u001b[1;32m   2684\u001b[0m         \u001b[0;32melse\u001b[0m\u001b[0;34m:\u001b[0m\u001b[0;34m\u001b[0m\u001b[0m\n\u001b[0;32m-> 2685\u001b[0;31m             \u001b[0;32mreturn\u001b[0m \u001b[0mself\u001b[0m\u001b[0;34m.\u001b[0m\u001b[0m_getitem_column\u001b[0m\u001b[0;34m(\u001b[0m\u001b[0mkey\u001b[0m\u001b[0;34m)\u001b[0m\u001b[0;34m\u001b[0m\u001b[0m\n\u001b[0m\u001b[1;32m   2686\u001b[0m \u001b[0;34m\u001b[0m\u001b[0m\n\u001b[1;32m   2687\u001b[0m     \u001b[0;32mdef\u001b[0m \u001b[0m_getitem_column\u001b[0m\u001b[0;34m(\u001b[0m\u001b[0mself\u001b[0m\u001b[0;34m,\u001b[0m \u001b[0mkey\u001b[0m\u001b[0;34m)\u001b[0m\u001b[0;34m:\u001b[0m\u001b[0;34m\u001b[0m\u001b[0m\n",
      "\u001b[0;32m/anaconda3/lib/python3.6/site-packages/pandas/core/frame.py\u001b[0m in \u001b[0;36m_getitem_column\u001b[0;34m(self, key)\u001b[0m\n\u001b[1;32m   2690\u001b[0m         \u001b[0;31m# get column\u001b[0m\u001b[0;34m\u001b[0m\u001b[0;34m\u001b[0m\u001b[0m\n\u001b[1;32m   2691\u001b[0m         \u001b[0;32mif\u001b[0m \u001b[0mself\u001b[0m\u001b[0;34m.\u001b[0m\u001b[0mcolumns\u001b[0m\u001b[0;34m.\u001b[0m\u001b[0mis_unique\u001b[0m\u001b[0;34m:\u001b[0m\u001b[0;34m\u001b[0m\u001b[0m\n\u001b[0;32m-> 2692\u001b[0;31m             \u001b[0;32mreturn\u001b[0m \u001b[0mself\u001b[0m\u001b[0;34m.\u001b[0m\u001b[0m_get_item_cache\u001b[0m\u001b[0;34m(\u001b[0m\u001b[0mkey\u001b[0m\u001b[0;34m)\u001b[0m\u001b[0;34m\u001b[0m\u001b[0m\n\u001b[0m\u001b[1;32m   2693\u001b[0m \u001b[0;34m\u001b[0m\u001b[0m\n\u001b[1;32m   2694\u001b[0m         \u001b[0;31m# duplicate columns & possible reduce dimensionality\u001b[0m\u001b[0;34m\u001b[0m\u001b[0;34m\u001b[0m\u001b[0m\n",
      "\u001b[0;32m/anaconda3/lib/python3.6/site-packages/pandas/core/generic.py\u001b[0m in \u001b[0;36m_get_item_cache\u001b[0;34m(self, item)\u001b[0m\n\u001b[1;32m   2484\u001b[0m         \u001b[0mres\u001b[0m \u001b[0;34m=\u001b[0m \u001b[0mcache\u001b[0m\u001b[0;34m.\u001b[0m\u001b[0mget\u001b[0m\u001b[0;34m(\u001b[0m\u001b[0mitem\u001b[0m\u001b[0;34m)\u001b[0m\u001b[0;34m\u001b[0m\u001b[0m\n\u001b[1;32m   2485\u001b[0m         \u001b[0;32mif\u001b[0m \u001b[0mres\u001b[0m \u001b[0;32mis\u001b[0m \u001b[0;32mNone\u001b[0m\u001b[0;34m:\u001b[0m\u001b[0;34m\u001b[0m\u001b[0m\n\u001b[0;32m-> 2486\u001b[0;31m             \u001b[0mvalues\u001b[0m \u001b[0;34m=\u001b[0m \u001b[0mself\u001b[0m\u001b[0;34m.\u001b[0m\u001b[0m_data\u001b[0m\u001b[0;34m.\u001b[0m\u001b[0mget\u001b[0m\u001b[0;34m(\u001b[0m\u001b[0mitem\u001b[0m\u001b[0;34m)\u001b[0m\u001b[0;34m\u001b[0m\u001b[0m\n\u001b[0m\u001b[1;32m   2487\u001b[0m             \u001b[0mres\u001b[0m \u001b[0;34m=\u001b[0m \u001b[0mself\u001b[0m\u001b[0;34m.\u001b[0m\u001b[0m_box_item_values\u001b[0m\u001b[0;34m(\u001b[0m\u001b[0mitem\u001b[0m\u001b[0;34m,\u001b[0m \u001b[0mvalues\u001b[0m\u001b[0;34m)\u001b[0m\u001b[0;34m\u001b[0m\u001b[0m\n\u001b[1;32m   2488\u001b[0m             \u001b[0mcache\u001b[0m\u001b[0;34m[\u001b[0m\u001b[0mitem\u001b[0m\u001b[0;34m]\u001b[0m \u001b[0;34m=\u001b[0m \u001b[0mres\u001b[0m\u001b[0;34m\u001b[0m\u001b[0m\n",
      "\u001b[0;32m/anaconda3/lib/python3.6/site-packages/pandas/core/internals.py\u001b[0m in \u001b[0;36mget\u001b[0;34m(self, item, fastpath)\u001b[0m\n\u001b[1;32m   4113\u001b[0m \u001b[0;34m\u001b[0m\u001b[0m\n\u001b[1;32m   4114\u001b[0m             \u001b[0;32mif\u001b[0m \u001b[0;32mnot\u001b[0m \u001b[0misna\u001b[0m\u001b[0;34m(\u001b[0m\u001b[0mitem\u001b[0m\u001b[0;34m)\u001b[0m\u001b[0;34m:\u001b[0m\u001b[0;34m\u001b[0m\u001b[0m\n\u001b[0;32m-> 4115\u001b[0;31m                 \u001b[0mloc\u001b[0m \u001b[0;34m=\u001b[0m \u001b[0mself\u001b[0m\u001b[0;34m.\u001b[0m\u001b[0mitems\u001b[0m\u001b[0;34m.\u001b[0m\u001b[0mget_loc\u001b[0m\u001b[0;34m(\u001b[0m\u001b[0mitem\u001b[0m\u001b[0;34m)\u001b[0m\u001b[0;34m\u001b[0m\u001b[0m\n\u001b[0m\u001b[1;32m   4116\u001b[0m             \u001b[0;32melse\u001b[0m\u001b[0;34m:\u001b[0m\u001b[0;34m\u001b[0m\u001b[0m\n\u001b[1;32m   4117\u001b[0m                 \u001b[0mindexer\u001b[0m \u001b[0;34m=\u001b[0m \u001b[0mnp\u001b[0m\u001b[0;34m.\u001b[0m\u001b[0marange\u001b[0m\u001b[0;34m(\u001b[0m\u001b[0mlen\u001b[0m\u001b[0;34m(\u001b[0m\u001b[0mself\u001b[0m\u001b[0;34m.\u001b[0m\u001b[0mitems\u001b[0m\u001b[0;34m)\u001b[0m\u001b[0;34m)\u001b[0m\u001b[0;34m[\u001b[0m\u001b[0misna\u001b[0m\u001b[0;34m(\u001b[0m\u001b[0mself\u001b[0m\u001b[0;34m.\u001b[0m\u001b[0mitems\u001b[0m\u001b[0;34m)\u001b[0m\u001b[0;34m]\u001b[0m\u001b[0;34m\u001b[0m\u001b[0m\n",
      "\u001b[0;32m/anaconda3/lib/python3.6/site-packages/pandas/core/indexes/base.py\u001b[0m in \u001b[0;36mget_loc\u001b[0;34m(self, key, method, tolerance)\u001b[0m\n\u001b[1;32m   3063\u001b[0m                 \u001b[0;32mreturn\u001b[0m \u001b[0mself\u001b[0m\u001b[0;34m.\u001b[0m\u001b[0m_engine\u001b[0m\u001b[0;34m.\u001b[0m\u001b[0mget_loc\u001b[0m\u001b[0;34m(\u001b[0m\u001b[0mkey\u001b[0m\u001b[0;34m)\u001b[0m\u001b[0;34m\u001b[0m\u001b[0m\n\u001b[1;32m   3064\u001b[0m             \u001b[0;32mexcept\u001b[0m \u001b[0mKeyError\u001b[0m\u001b[0;34m:\u001b[0m\u001b[0;34m\u001b[0m\u001b[0m\n\u001b[0;32m-> 3065\u001b[0;31m                 \u001b[0;32mreturn\u001b[0m \u001b[0mself\u001b[0m\u001b[0;34m.\u001b[0m\u001b[0m_engine\u001b[0m\u001b[0;34m.\u001b[0m\u001b[0mget_loc\u001b[0m\u001b[0;34m(\u001b[0m\u001b[0mself\u001b[0m\u001b[0;34m.\u001b[0m\u001b[0m_maybe_cast_indexer\u001b[0m\u001b[0;34m(\u001b[0m\u001b[0mkey\u001b[0m\u001b[0;34m)\u001b[0m\u001b[0;34m)\u001b[0m\u001b[0;34m\u001b[0m\u001b[0m\n\u001b[0m\u001b[1;32m   3066\u001b[0m \u001b[0;34m\u001b[0m\u001b[0m\n\u001b[1;32m   3067\u001b[0m         \u001b[0mindexer\u001b[0m \u001b[0;34m=\u001b[0m \u001b[0mself\u001b[0m\u001b[0;34m.\u001b[0m\u001b[0mget_indexer\u001b[0m\u001b[0;34m(\u001b[0m\u001b[0;34m[\u001b[0m\u001b[0mkey\u001b[0m\u001b[0;34m]\u001b[0m\u001b[0;34m,\u001b[0m \u001b[0mmethod\u001b[0m\u001b[0;34m=\u001b[0m\u001b[0mmethod\u001b[0m\u001b[0;34m,\u001b[0m \u001b[0mtolerance\u001b[0m\u001b[0;34m=\u001b[0m\u001b[0mtolerance\u001b[0m\u001b[0;34m)\u001b[0m\u001b[0;34m\u001b[0m\u001b[0m\n",
      "\u001b[0;32mpandas/_libs/index.pyx\u001b[0m in \u001b[0;36mpandas._libs.index.IndexEngine.get_loc\u001b[0;34m()\u001b[0m\n",
      "\u001b[0;32mpandas/_libs/index.pyx\u001b[0m in \u001b[0;36mpandas._libs.index.IndexEngine.get_loc\u001b[0;34m()\u001b[0m\n",
      "\u001b[0;32mpandas/_libs/hashtable_class_helper.pxi\u001b[0m in \u001b[0;36mpandas._libs.hashtable.PyObjectHashTable.get_item\u001b[0;34m()\u001b[0m\n",
      "\u001b[0;32mpandas/_libs/hashtable_class_helper.pxi\u001b[0m in \u001b[0;36mpandas._libs.hashtable.PyObjectHashTable.get_item\u001b[0;34m()\u001b[0m\n",
      "\u001b[0;31mKeyError\u001b[0m: 'review_ratin'"
     ]
    }
   ],
   "source": [
    "r_sum[r_sum['sentiment']=='Good'][r_sum['review_ratin']==5.0].count()"
   ]
  },
  {
   "cell_type": "code",
   "execution_count": 201,
   "metadata": {},
   "outputs": [
    {
     "name": "stdout",
     "output_type": "stream",
     "text": [
      "Accuracy: 0.8855447963011428\n",
      "Recall: 0.8385226270011344\n"
     ]
    }
   ],
   "source": [
    "total_bad = 7964\n",
    "total_good = 11432\n",
    "print('Accuracy: {}'.format((3219+6932)/(3219+6932+602+710)))\n",
    "print('Recall: {}'.format((3899+1561+1192)/(3899+1561+1192+118+249+914)))"
   ]
  },
  {
   "cell_type": "code",
   "execution_count": 202,
   "metadata": {},
   "outputs": [],
   "source": [
    "false_positives = r_sum[r_sum['review_rating']==5]"
   ]
  },
  {
   "cell_type": "code",
   "execution_count": 204,
   "metadata": {},
   "outputs": [],
   "source": [
    "false_positives = false_positives[false_positives['sentiment']=='Bad']"
   ]
  },
  {
   "cell_type": "code",
   "execution_count": 207,
   "metadata": {},
   "outputs": [],
   "source": [
    "chk_id = false_positives['bus_id']"
   ]
  },
  {
   "cell_type": "code",
   "execution_count": 210,
   "metadata": {},
   "outputs": [],
   "source": [
    "chk_id = list(chk_id)"
   ]
  },
  {
   "cell_type": "code",
   "execution_count": 221,
   "metadata": {},
   "outputs": [
    {
     "name": "stdout",
     "output_type": "stream",
     "text": [
      "{'_id': ObjectId('5b847ab83d38dc7c345ab274'), 'bus_id': 'U3O8l_wmzdeckbhHpuRWCg', 'review_id': 'GETQuUY08ncae3k8Sd2BUA', 'user_name': 'Stephanie P.', 'user_city': 'Phoenix', 'user_state': 'AZ', 'user_friends': '3', 'user_reviews': '21', 'user_photo': '5', 'review_rating': '5.0', 'review_date': '3/31/2018', 'review_text': \"Went to lunch ere a couple of weeks ago with my daughter and I forgot to leave a review. The potato soup was great as usual so was the pasta. The best part about this visit was our waitress. I wish I could remember her name. The hostess sat us behind the most obnoxious kid I have ever been around and his parents were useless letting him act like a complete animal in public. The waitress saw my distress and moved us to another booth. Note to parents....if your children can't act like humans please do NOT take them into public and ruin everyone's else's lunch. Get a babysitter or get it to go. Or teach your kids how to behave. It's not that difficult. I have three none of them kick seats, scream, jump around or act out of control in public.\", 'review_useful': '1', 'review_funny': '2', 'review_cool': '1', 'cluster': 'Good Service', 'sentiment': 'Bad'}\n",
      "{'_id': ObjectId('5b847ab83d38dc7c345ab27e'), 'bus_id': 'U3O8l_wmzdeckbhHpuRWCg', 'review_id': 'Bo_VqgGhapaRycm0BagzQA', 'user_name': 'Julia M.', 'user_city': 'Laguna Beach', 'user_state': 'CA', 'user_friends': '0', 'user_reviews': '19', 'review_rating': '5.0', 'review_date': '8/1/2018', 'review_text': 'great manager and servers. It was my dads birthday, I called to send a slice of Tiramisu over and they didnt even charge me. super sweet of them. Great customer service. Thank you!!!', 'review_useful': '', 'review_funny': '', 'review_cool': '', 'cluster': 'Bad Service', 'sentiment': 'Bad'}\n"
     ]
    }
   ],
   "source": [
    "iternum += 1\n",
    "reviews = rdb.find({'bus_id': chk_id[iternum], 'sentiment': 'Bad', 'review_rating': '5.0'})\n",
    "for r in reviews:\n",
    "    print(r)"
   ]
  },
  {
   "cell_type": "code",
   "execution_count": null,
   "metadata": {},
   "outputs": [],
   "source": []
  }
 ],
 "metadata": {
  "kernelspec": {
   "display_name": "Python 3",
   "language": "python",
   "name": "python3"
  },
  "language_info": {
   "codemirror_mode": {
    "name": "ipython",
    "version": 3
   },
   "file_extension": ".py",
   "mimetype": "text/x-python",
   "name": "python",
   "nbconvert_exporter": "python",
   "pygments_lexer": "ipython3",
   "version": "3.6.5"
  }
 },
 "nbformat": 4,
 "nbformat_minor": 2
}
