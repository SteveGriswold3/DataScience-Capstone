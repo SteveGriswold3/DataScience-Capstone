{
 "cells": [
  {
   "cell_type": "code",
   "execution_count": 1,
   "metadata": {},
   "outputs": [],
   "source": [
    "from timeit import Timer\n",
    "from yelp_helpers import request\n",
    "from yelp_helpers import load_api_key\n",
    "import pandas as pd\n",
    "import multiprocessing\n",
    "import threading\n",
    "import time\n",
    "import pickle\n",
    "import numpy as np\n",
    "import datetime\n",
    "import matplotlib.pyplot as plt\n",
    "%matplotlib inline"
   ]
  },
  {
   "cell_type": "code",
   "execution_count": 13,
   "metadata": {},
   "outputs": [],
   "source": [
    "key = load_api_key()"
   ]
  },
  {
   "cell_type": "code",
   "execution_count": 19,
   "metadata": {},
   "outputs": [
    {
     "ename": "ValueError",
     "evalue": "unsupported pickle protocol: 4",
     "output_type": "error",
     "traceback": [
      "\u001b[0;31m---------------------------------------------------------------------------\u001b[0m",
      "\u001b[0;31mValueError\u001b[0m                                Traceback (most recent call last)",
      "\u001b[0;32m<ipython-input-19-1b46ba2c9441>\u001b[0m in \u001b[0;36m<module>\u001b[0;34m()\u001b[0m\n\u001b[1;32m      1\u001b[0m \u001b[0;32mwith\u001b[0m \u001b[0mopen\u001b[0m\u001b[0;34m(\u001b[0m\u001b[0;34m'yelp_businesses.pickle'\u001b[0m\u001b[0;34m,\u001b[0m \u001b[0;34m'rb'\u001b[0m\u001b[0;34m)\u001b[0m \u001b[0;32mas\u001b[0m \u001b[0mpickleReader\u001b[0m\u001b[0;34m:\u001b[0m\u001b[0;34m\u001b[0m\u001b[0m\n\u001b[0;32m----> 2\u001b[0;31m     \u001b[0mbusiness_dict\u001b[0m \u001b[0;34m=\u001b[0m \u001b[0mpickle\u001b[0m\u001b[0;34m.\u001b[0m\u001b[0mload\u001b[0m\u001b[0;34m(\u001b[0m\u001b[0mpickleReader\u001b[0m\u001b[0;34m)\u001b[0m\u001b[0;34m\u001b[0m\u001b[0m\n\u001b[0m",
      "\u001b[0;31mValueError\u001b[0m: unsupported pickle protocol: 4"
     ]
    }
   ],
   "source": [
    "with open('yelp_businesses.pickle', 'rb') as pickleReader:\n",
    "    business_dict = pickle.load(pickleReader)"
   ]
  },
  {
   "cell_type": "code",
   "execution_count": 4,
   "metadata": {
    "scrolled": true
   },
   "outputs": [],
   "source": [
    "loc_list = np.loadtxt('../loc_list.txt')"
   ]
  },
  {
   "cell_type": "code",
   "execution_count": 5,
   "metadata": {},
   "outputs": [
    {
     "data": {
      "text/plain": [
       "array([[ 266.   , -111.875,   33.4  ],\n",
       "       [ 501.   , -111.925, -111.925],\n",
       "       [ 336.   , -111.9  , -111.9  ],\n",
       "       [ 214.   , -111.875, -111.875],\n",
       "       [ 266.   , -111.875, -111.875],\n",
       "       [ 222.   , -111.875, -111.875],\n",
       "       [ 236.   , -111.9  , -111.9  ],\n",
       "       [ 261.   , -111.925, -111.925],\n",
       "       [ 519.   , -111.925, -111.925]])"
      ]
     },
     "execution_count": 5,
     "metadata": {},
     "output_type": "execute_result"
    }
   ],
   "source": [
    "loc_list[1:10]"
   ]
  },
  {
   "cell_type": "code",
   "execution_count": 7,
   "metadata": {},
   "outputs": [
    {
     "data": {
      "text/plain": [
       "array([[ 266.   , -111.875,   33.4  ],\n",
       "       [ 266.   , -111.875, -111.875],\n",
       "       [ 266.   , -111.875, -111.875]])"
      ]
     },
     "execution_count": 7,
     "metadata": {},
     "output_type": "execute_result"
    }
   ],
   "source": [
    "loc_list[loc_list[:,0]==266]\n"
   ]
  },
  {
   "cell_type": "code",
   "execution_count": 10,
   "metadata": {},
   "outputs": [
    {
     "name": "stdout",
     "output_type": "stream",
     "text": [
      "LICENSE                \u001b[1m\u001b[34mdashboard\u001b[m\u001b[m              \u001b[1m\u001b[34mweb\u001b[m\u001b[m\r\n",
      "README.md              \u001b[1m\u001b[34mdata\u001b[m\u001b[m                   yelp_businesses.pickle\r\n",
      "Yelp_scraping.py       loc_list.txt\r\n",
      "\u001b[1m\u001b[34m__pycache__\u001b[m\u001b[m            \u001b[1m\u001b[34msrc\u001b[m\u001b[m\r\n"
     ]
    }
   ],
   "source": [
    "!ls ../"
   ]
  },
  {
   "cell_type": "code",
   "execution_count": 22,
   "metadata": {},
   "outputs": [],
   "source": [
    "df = pd.read_csv('../src/support/ping_pong.txt', delimiter='\\t', header=None)"
   ]
  },
  {
   "cell_type": "code",
   "execution_count": 30,
   "metadata": {},
   "outputs": [],
   "source": [
    "match_list = []\n",
    "for x in range(len(df)):\n",
    "    match_list.append(df.iloc[x].values[0].split('\\\\t'))"
   ]
  },
  {
   "cell_type": "code",
   "execution_count": 33,
   "metadata": {},
   "outputs": [],
   "source": [
    "df = pd.DataFrame(match_list)"
   ]
  },
  {
   "cell_type": "code",
   "execution_count": 35,
   "metadata": {},
   "outputs": [],
   "source": [
    "df.to_csv('../src/support/ping_pong.txt', sep='\\t')"
   ]
  },
  {
   "cell_type": "code",
   "execution_count": 37,
   "metadata": {},
   "outputs": [
    {
     "data": {
      "text/html": [
       "<div>\n",
       "<style scoped>\n",
       "    .dataframe tbody tr th:only-of-type {\n",
       "        vertical-align: middle;\n",
       "    }\n",
       "\n",
       "    .dataframe tbody tr th {\n",
       "        vertical-align: top;\n",
       "    }\n",
       "\n",
       "    .dataframe thead th {\n",
       "        text-align: right;\n",
       "    }\n",
       "</style>\n",
       "<table border=\"1\" class=\"dataframe\">\n",
       "  <thead>\n",
       "    <tr style=\"text-align: right;\">\n",
       "      <th></th>\n",
       "      <th>Unnamed: 0</th>\n",
       "      <th>0</th>\n",
       "      <th>1</th>\n",
       "      <th>2</th>\n",
       "      <th>3</th>\n",
       "      <th>4</th>\n",
       "      <th>5</th>\n",
       "    </tr>\n",
       "  </thead>\n",
       "  <tbody>\n",
       "    <tr>\n",
       "      <th>0</th>\n",
       "      <td>0</td>\n",
       "      <td>8/17/18</td>\n",
       "      <td>Paul</td>\n",
       "      <td>1</td>\n",
       "      <td>Singles</td>\n",
       "      <td>21</td>\n",
       "      <td>11</td>\n",
       "    </tr>\n",
       "    <tr>\n",
       "      <th>1</th>\n",
       "      <td>1</td>\n",
       "      <td>8/17/18</td>\n",
       "      <td>Steve</td>\n",
       "      <td>1</td>\n",
       "      <td>Singles</td>\n",
       "      <td>11</td>\n",
       "      <td>21</td>\n",
       "    </tr>\n",
       "    <tr>\n",
       "      <th>2</th>\n",
       "      <td>2</td>\n",
       "      <td>8/17/18</td>\n",
       "      <td>Paul</td>\n",
       "      <td>2</td>\n",
       "      <td>Singles</td>\n",
       "      <td>21</td>\n",
       "      <td>23</td>\n",
       "    </tr>\n",
       "    <tr>\n",
       "      <th>3</th>\n",
       "      <td>3</td>\n",
       "      <td>8/17/18</td>\n",
       "      <td>Steve</td>\n",
       "      <td>2</td>\n",
       "      <td>Singles</td>\n",
       "      <td>23</td>\n",
       "      <td>21</td>\n",
       "    </tr>\n",
       "    <tr>\n",
       "      <th>4</th>\n",
       "      <td>4</td>\n",
       "      <td>8/20/18</td>\n",
       "      <td>Paul</td>\n",
       "      <td>1</td>\n",
       "      <td>Singles</td>\n",
       "      <td>8</td>\n",
       "      <td>21</td>\n",
       "    </tr>\n",
       "    <tr>\n",
       "      <th>5</th>\n",
       "      <td>5</td>\n",
       "      <td>8/20/18</td>\n",
       "      <td>Steve</td>\n",
       "      <td>1</td>\n",
       "      <td>Singles</td>\n",
       "      <td>21</td>\n",
       "      <td>8</td>\n",
       "    </tr>\n",
       "    <tr>\n",
       "      <th>6</th>\n",
       "      <td>6</td>\n",
       "      <td>8/20/18</td>\n",
       "      <td>Paul</td>\n",
       "      <td>2</td>\n",
       "      <td>Singles</td>\n",
       "      <td>21</td>\n",
       "      <td>19</td>\n",
       "    </tr>\n",
       "    <tr>\n",
       "      <th>7</th>\n",
       "      <td>7</td>\n",
       "      <td>8/20/18</td>\n",
       "      <td>Steve</td>\n",
       "      <td>2</td>\n",
       "      <td>Singles</td>\n",
       "      <td>17</td>\n",
       "      <td>21</td>\n",
       "    </tr>\n",
       "    <tr>\n",
       "      <th>8</th>\n",
       "      <td>8</td>\n",
       "      <td>8/20/18</td>\n",
       "      <td>Paul</td>\n",
       "      <td>3</td>\n",
       "      <td>Singles</td>\n",
       "      <td>21</td>\n",
       "      <td>19</td>\n",
       "    </tr>\n",
       "  </tbody>\n",
       "</table>\n",
       "</div>"
      ],
      "text/plain": [
       "   Unnamed: 0        0      1  2        3   4   5\n",
       "0           0  8/17/18   Paul  1  Singles  21  11\n",
       "1           1  8/17/18  Steve  1  Singles  11  21\n",
       "2           2  8/17/18   Paul  2  Singles  21  23\n",
       "3           3  8/17/18  Steve  2  Singles  23  21\n",
       "4           4  8/20/18   Paul  1  Singles   8  21\n",
       "5           5  8/20/18  Steve  1  Singles  21   8\n",
       "6           6  8/20/18   Paul  2  Singles  21  19\n",
       "7           7  8/20/18  Steve  2  Singles  17  21\n",
       "8           8  8/20/18   Paul  3  Singles  21  19"
      ]
     },
     "execution_count": 37,
     "metadata": {},
     "output_type": "execute_result"
    }
   ],
   "source": [
    "pd.read_csv('../src/support/ping_pong.txt', delimiter='\\t')"
   ]
  },
  {
   "cell_type": "code",
   "execution_count": 43,
   "metadata": {},
   "outputs": [],
   "source": [
    "match_list = pd.read_csv('../src/support/ping_pong.txt', delimiter='\\t')"
   ]
  },
  {
   "cell_type": "code",
   "execution_count": 49,
   "metadata": {},
   "outputs": [],
   "source": [
    "data = zip(match_list['date'].values, match_list['name'].values, match_list['game'].values, match_list['single'].values, match_list['player'].values, match_list['opponent'].values)"
   ]
  },
  {
   "cell_type": "code",
   "execution_count": 44,
   "metadata": {},
   "outputs": [
    {
     "data": {
      "text/plain": [
       "Index(['Unnamed: 0', 'date', 'name', 'game', 'single', 'player', 'opponent'], dtype='object')"
      ]
     },
     "execution_count": 44,
     "metadata": {},
     "output_type": "execute_result"
    }
   ],
   "source": [
    "match_list.columns"
   ]
  },
  {
   "cell_type": "code",
   "execution_count": 45,
   "metadata": {},
   "outputs": [
    {
     "data": {
      "text/plain": [
       "0    8/17/18\n",
       "1    8/17/18\n",
       "2    8/17/18\n",
       "3    8/17/18\n",
       "4    8/20/18\n",
       "5    8/20/18\n",
       "6    8/20/18\n",
       "7    8/20/18\n",
       "8    8/20/18\n",
       "Name: date, dtype: object"
      ]
     },
     "execution_count": 45,
     "metadata": {},
     "output_type": "execute_result"
    }
   ],
   "source": [
    "match_list['date']"
   ]
  },
  {
   "cell_type": "code",
   "execution_count": 51,
   "metadata": {},
   "outputs": [],
   "source": [
    "for date, name, game, single, player, opponent in data:\n",
    "    print(date, name, game, single, player, opponent)"
   ]
  },
  {
   "cell_type": "code",
   "execution_count": 52,
   "metadata": {},
   "outputs": [
    {
     "data": {
      "text/plain": [
       "'../../web/templates/ping_pong.html'"
      ]
     },
     "execution_count": 52,
     "metadata": {},
     "output_type": "execute_result"
    }
   ],
   "source": [
    "'../../web/templates/ping_pong.html'"
   ]
  },
  {
   "cell_type": "code",
   "execution_count": 53,
   "metadata": {},
   "outputs": [
    {
     "name": "stdout",
     "output_type": "stream",
     "text": [
      "Yelp_scraping.py             yelp_business_scrapper.ipynb\r\n",
      "\u001b[1m\u001b[34m__pycache__\u001b[m\u001b[m                  yelp_helpers.py\r\n",
      "\u001b[1m\u001b[34msupport\u001b[m\u001b[m                      yelp_scrapper.sh\r\n"
     ]
    }
   ],
   "source": [
    "!ls\n"
   ]
  },
  {
   "cell_type": "code",
   "execution_count": null,
   "metadata": {},
   "outputs": [],
   "source": [
    "GET https://api.yelp.com/v3/businesses/{id}/reviews"
   ]
  },
  {
   "cell_type": "code",
   "execution_count": 3,
   "metadata": {},
   "outputs": [],
   "source": [
    "API_KEY = key['client_secret']\n",
    "API_HOST = 'https://api.yelp.com'\n",
    "SEARCH_PATH = '/v3/businesses/{id}/reviews'\n"
   ]
  },
  {
   "cell_type": "code",
   "execution_count": 4,
   "metadata": {},
   "outputs": [
    {
     "data": {
      "text/plain": [
       "'/v3/businesses/18/reviews'"
      ]
     },
     "execution_count": 4,
     "metadata": {},
     "output_type": "execute_result"
    }
   ],
   "source": [
    "SEARCH_PATH.format(id='18')"
   ]
  },
  {
   "cell_type": "code",
   "execution_count": null,
   "metadata": {},
   "outputs": [],
   "source": []
  },
  {
   "cell_type": "code",
   "execution_count": 9,
   "metadata": {},
   "outputs": [],
   "source": [
    "with open('../data/yelp_businesses.pickle', 'rb') as pickleReader:\n",
    "    business_dict = pickle.load(pickleReader)"
   ]
  },
  {
   "cell_type": "code",
   "execution_count": 11,
   "metadata": {},
   "outputs": [],
   "source": [
    "bus_ids = [k for k in business_dict.keys()]"
   ]
  },
  {
   "cell_type": "code",
   "execution_count": 23,
   "metadata": {},
   "outputs": [
    {
     "data": {
      "text/plain": [
       "'https://www.yelp.com/biz/four-peaks-brewing-tempe?adjust_creative=ihkhZPaVUfUYeK7PoCZp6w&utm_campaign=yelp_api_v3&utm_medium=api_v3_business_search&utm_source=ihkhZPaVUfUYeK7PoCZp6w'"
      ]
     },
     "execution_count": 23,
     "metadata": {},
     "output_type": "execute_result"
    }
   ],
   "source": [
    "business_dict[bus_ids[0]]['url']"
   ]
  },
  {
   "cell_type": "code",
   "execution_count": 14,
   "metadata": {},
   "outputs": [
    {
     "name": "stdout",
     "output_type": "stream",
     "text": [
      "Querying https://api.yelp.com/v3/businesses/JzOp695tclcNCNMuBl7oxA/reviews ...\n"
     ]
    }
   ],
   "source": [
    "stat, Yelp_data = request(API_HOST, SEARCH_PATH.format(id=bus_ids[0]), API_KEY)"
   ]
  },
  {
   "cell_type": "code",
   "execution_count": 17,
   "metadata": {},
   "outputs": [
    {
     "name": "stdout",
     "output_type": "stream",
     "text": [
      "This place can get busy. But go with the right company and grab a drink, the wait won't be bad.\n",
      "\n",
      "Good brewery menu and good beer. I mainly go for the...\n",
      "This four peaks happens to be down the street from my work so i frequent here for lunch.  Four peaks not only has some of the better craft beers around by...\n",
      "This place has gone down hill lately. This was the first time I had been in since the AB-InBev sell out. \n",
      "\n",
      "I went for breakfast on the morning of the World...\n"
     ]
    }
   ],
   "source": [
    "for review in Yelp_data['reviews']:\n",
    "    print(review['text'])"
   ]
  },
  {
   "cell_type": "code",
   "execution_count": 20,
   "metadata": {},
   "outputs": [],
   "source": [
    "df = pd.DataFrame(Yelp_data['reviews'])\n"
   ]
  },
  {
   "cell_type": "code",
   "execution_count": 21,
   "metadata": {},
   "outputs": [],
   "source": [
    "df.to_csv('review.csv')"
   ]
  },
  {
   "cell_type": "code",
   "execution_count": 34,
   "metadata": {},
   "outputs": [
    {
     "name": "stdout",
     "output_type": "stream",
     "text": [
      "10.625 hours\n",
      "0.4427083333333333 days\n"
     ]
    }
   ],
   "source": [
    "print((850*45)/60/60, 'hours')\n",
    "print((850*45)/60/60/24, 'days')"
   ]
  },
  {
   "cell_type": "code",
   "execution_count": null,
   "metadata": {},
   "outputs": [],
   "source": []
  }
 ],
 "metadata": {
  "kernelspec": {
   "display_name": "Python 3",
   "language": "python",
   "name": "python3"
  },
  "language_info": {
   "codemirror_mode": {
    "name": "ipython",
    "version": 3
   },
   "file_extension": ".py",
   "mimetype": "text/x-python",
   "name": "python",
   "nbconvert_exporter": "python",
   "pygments_lexer": "ipython3",
   "version": "3.6.5"
  }
 },
 "nbformat": 4,
 "nbformat_minor": 2
}
