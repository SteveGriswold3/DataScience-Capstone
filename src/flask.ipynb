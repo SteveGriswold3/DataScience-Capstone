{
 "cells": [
  {
   "cell_type": "code",
   "execution_count": 1,
   "metadata": {},
   "outputs": [],
   "source": [
    "import matplotlib.pyplot as plt"
   ]
  },
  {
   "cell_type": "code",
   "execution_count": 1,
   "metadata": {},
   "outputs": [],
   "source": [
    "from collections import Counter\n",
    "import pandas as pd\n",
    "import numpy as np\n",
    "import pickle\n",
    "from sklearn.feature_extraction.text import TfidfVectorizer\n",
    "from sklearn.naive_bayes import MultinomialNB\n",
    "#from model import \n",
    "from flask import Flask, request, render_template, url_for\n",
    "from pymongo import MongoClient\n",
    "from bson import json_util\n",
    "\n",
    "import requests"
   ]
  },
  {
   "cell_type": "code",
   "execution_count": 2,
   "metadata": {},
   "outputs": [],
   "source": [
    "client = MongoClient()\n",
    "db = client.yelp\n",
    "bdb = db.businesses\n",
    "rdb = db.reviews"
   ]
  },
  {
   "cell_type": "code",
   "execution_count": 3,
   "metadata": {},
   "outputs": [],
   "source": [
    "state_summary_data = client.yelp.businesses.aggregate([{'$group':{'_id':'$state', 'rating': {'$avg': '$rating'}, 'count': {'$sum':1} } }, {'$sort': { 'count': -1} }, {'$match': {'count': {'$gte': 100} } } ] )"
   ]
  },
  {
   "cell_type": "code",
   "execution_count": null,
   "metadata": {},
   "outputs": [],
   "source": [
    "city_summary_data = bdb.aggregate([{'$group':{'_id':'$state', 'rating': {'$avg': '$rating'}, 'count': {'$sum':1} } }, {'$sort': { 'count': -1} }, {'$match': {'count': {'$gte': 100} } } ] )\n",
    "    "
   ]
  },
  {
   "cell_type": "code",
   "execution_count": 40,
   "metadata": {},
   "outputs": [],
   "source": [
    "city_list = bdb.aggregate([{'$group': {'_id': {'city': '$city', 'state': '$state'}, 'count': {'$sum':1} } }])\n"
   ]
  },
  {
   "cell_type": "code",
   "execution_count": 23,
   "metadata": {},
   "outputs": [],
   "source": [
    "for city in city_list:\n",
    "    city.keys()"
   ]
  },
  {
   "cell_type": "code",
   "execution_count": 24,
   "metadata": {},
   "outputs": [
    {
     "data": {
      "text/plain": [
       "{'_id': {'city': 'Bellrose', 'state': 'NY'}, 'count': 1}"
      ]
     },
     "execution_count": 24,
     "metadata": {},
     "output_type": "execute_result"
    }
   ],
   "source": [
    "city"
   ]
  },
  {
   "cell_type": "code",
   "execution_count": 26,
   "metadata": {},
   "outputs": [
    {
     "data": {
      "text/plain": [
       "'Bellrose'"
      ]
     },
     "execution_count": 26,
     "metadata": {},
     "output_type": "execute_result"
    }
   ],
   "source": [
    "city['_id']['city']"
   ]
  },
  {
   "cell_type": "code",
   "execution_count": 27,
   "metadata": {},
   "outputs": [
    {
     "data": {
      "text/plain": [
       "'NY'"
      ]
     },
     "execution_count": 27,
     "metadata": {},
     "output_type": "execute_result"
    }
   ],
   "source": [
    "city['_id']['state']"
   ]
  },
  {
   "cell_type": "code",
   "execution_count": 32,
   "metadata": {},
   "outputs": [
    {
     "data": {
      "text/plain": [
       "1"
      ]
     },
     "execution_count": 32,
     "metadata": {},
     "output_type": "execute_result"
    }
   ],
   "source": [
    "city['count']"
   ]
  },
  {
   "cell_type": "code",
   "execution_count": 41,
   "metadata": {},
   "outputs": [],
   "source": [
    "city_count = [[city['_id']['city'], city['_id']['state'], city['count']] for city in city_list ]"
   ]
  },
  {
   "cell_type": "code",
   "execution_count": 42,
   "metadata": {},
   "outputs": [
    {
     "data": {
      "text/plain": [
       "1702"
      ]
     },
     "execution_count": 42,
     "metadata": {},
     "output_type": "execute_result"
    }
   ],
   "source": [
    "len(city_count)"
   ]
  },
  {
   "cell_type": "code",
   "execution_count": 45,
   "metadata": {},
   "outputs": [],
   "source": [
    "city_count = np.array(city_count)"
   ]
  },
  {
   "cell_type": "code",
   "execution_count": 47,
   "metadata": {},
   "outputs": [
    {
     "data": {
      "text/plain": [
       "array([['Park Hall', 'MD', '2'],\n",
       "       ['Tilghman Island', 'MD', '9'],\n",
       "       ['Tilghman', 'MD', '12'],\n",
       "       ['Great Mills', 'MD', '10'],\n",
       "       ['Callaway', 'MD', '11'],\n",
       "       ['Knoxville', 'MD', '8'],\n",
       "       ['Thurmont', 'MD', '8'],\n",
       "       ['New Windsor', 'MD', '14'],\n",
       "       ['Upperco', 'MD', '4'],\n",
       "       ['Bel Aire', 'MD', '6'],\n",
       "       ['Bel-Air', 'MD', '6'],\n",
       "       ['Stevensville', 'MD', '39'],\n",
       "       ['Bushwood', 'MD', '6'],\n",
       "       ['Sparks', 'MD', '15'],\n",
       "       ['Bel Air', 'MD', '523'],\n",
       "       ['Joppa', 'MD', '69'],\n",
       "       ['Patuxent River', 'MD', '18'],\n",
       "       ['Lexington Park', 'MD', '301'],\n",
       "       ['California', 'MD', '278'],\n",
       "       ['Myersville', 'MD', '30'],\n",
       "       ['Baldwin', 'MD', '15'],\n",
       "       ['Bowleys Quarters', 'MD', '15'],\n",
       "       ['Clements', 'MD', '9'],\n",
       "       ['Union Bridge', 'MD', '14'],\n",
       "       ['Kingsville', 'MD', '39'],\n",
       "       ['essex', 'MD', '6'],\n",
       "       ['Point of Rocks', 'MD', '18'],\n",
       "       ['Westminster', 'MD', '216'],\n",
       "       ['Reisterstown MD', 'MD', '6'],\n",
       "       ['Cockeysville', 'MD', '567'],\n",
       "       ['Middle River', 'MD', '384'],\n",
       "       ['Edgemere', 'MD', '33'],\n",
       "       ['Sparrows Point', 'MD', '98'],\n",
       "       ['Solomons', 'MD', '152'],\n",
       "       ['Helen', 'MD', '9'],\n",
       "       ['Chaptico', 'MD', '6'],\n",
       "       ['Middletown', 'MD', '116'],\n",
       "       ['Braddock Heights', 'MD', '9'],\n",
       "       ['Fort Detrick', 'MD', '9'],\n",
       "       ['Reisterstown', 'MD', '258'],\n",
       "       ['Fallston', 'MD', '149'],\n",
       "       ['Lutherville Timonium', 'MD', '174'],\n",
       "       ['Timonium', 'MD', '174'],\n",
       "       ['White Marsh', 'MD', '189'],\n",
       "       ['Essex', 'MD', '462'],\n",
       "       ['Hollywood', 'MD', '54'],\n",
       "       ['Dundalk', 'MD', '600'],\n",
       "       ['Lutherville-Timonium', 'MD', '180'],\n",
       "       ['Saint Leonard', 'MD', '24'],\n",
       "       ['Sykesville', 'MD', '285'],\n",
       "       ['Mount Washington', 'MD', '9'],\n",
       "       ['Lantham', 'MD', '9'],\n",
       "       ['Towson', 'MD', '1377'],\n",
       "       ['Greenland Beach', 'MD', '9'],\n",
       "       ['Pasadena', 'MD', '690'],\n",
       "       ['New Market', 'MD', '78'],\n",
       "       ['Mayo', 'MD', '6'],\n",
       "       ['Shady Side', 'MD', '27'],\n",
       "       ['North Beach', 'MD', '48'],\n",
       "       ['Chesapeake Beach', 'MD', '84'],\n",
       "       ['Monrovia', 'MD', '39'],\n",
       "       ['Randallstown', 'MD', '338'],\n",
       "       ['baltmiore', 'MD', '4'],\n",
       "       ['Severna', 'MD', '6'],\n",
       "       ['National Harbor', 'MD', '258'],\n",
       "       ['Hughesville', 'MD', '33'],\n",
       "       ['Port Republic', 'MD', '12'],\n",
       "       ['Nanjemoy', 'MD', '6'],\n",
       "       ['Buckeystown', 'MD', '12'],\n",
       "       ['Edgewater', 'MD', '393'],\n",
       "       ['Friendship', 'MD', '6'],\n",
       "       ['Charlotte Hall', 'MD', '204'],\n",
       "       ['Butler', 'MD', '18'],\n",
       "       ['Cooksville', 'MD', '21'],\n",
       "       ['Glenwood', 'MD', '6'],\n",
       "       ['Fork', 'MD', '6'],\n",
       "       ['West Friendship', 'MD', '33'],\n",
       "       ['Port Tobacco', 'MD', '27'],\n",
       "       ['Baltimore Highlands', 'MD', '6'],\n",
       "       ['Millersville', 'MD', '180'],\n",
       "       ['Benedict', 'MD', '9'],\n",
       "       ['Laplata', 'MD', '6'],\n",
       "       ['La Plata', 'MD', '348'],\n",
       "       ['Marbury', 'MD', '6'],\n",
       "       ['Dickerson', 'MD', '42'],\n",
       "       ['Dayton', 'MD', '6'],\n",
       "       ['Lansdowne', 'MD', '6'],\n",
       "       ['Aberdeen', 'MD', '187'],\n",
       "       ['Anne Arundel', 'MD', '6'],\n",
       "       ['Glenelg', 'MD', '30'],\n",
       "       ['Dunkirk', 'MD', '102'],\n",
       "       ['Damascus', 'MD', '186'],\n",
       "       ['Halethorpe', 'MD', '213'],\n",
       "       ['Temple Hills', 'MD', '405'],\n",
       "       ['Linthicum', 'MD', '81'],\n",
       "       ['Glen Burnie', 'MD', '1329'],\n",
       "       ['Wheaton', 'MD', '453'],\n",
       "       ['Darnestown', 'MD', '12'],\n",
       "       ['Linthicum Heights', 'MD', '365'],\n",
       "       ['Bryans Road', 'MD', '81'],\n",
       "       ['Indian Head', 'MD', '102'],\n",
       "       ['Germantown', 'MD', '956'],\n",
       "       ['Elkridge', 'MD', '444'],\n",
       "       ['Crownsville', 'MD', '186'],\n",
       "       ['Odenton', 'MD', '417'],\n",
       "       ['Brookeville', 'MD', '30'],\n",
       "       ['Sandy Spring', 'MD', '9'],\n",
       "       ['Mt. Airy', 'MD', '18'],\n",
       "       ['Fulton', 'MD', '90'],\n",
       "       ['Columbia', 'MD', '1624'],\n",
       "       ['Waldorf', 'MD', '1095'],\n",
       "       ['Jessup', 'MD', '231'],\n",
       "       ['Savage', 'MD', '42'],\n",
       "       ['Annapolis Junction', 'MD', '57'],\n",
       "       ['Laytonsville', 'MD', '12'],\n",
       "       ['Burtonsville', 'MD', '174'],\n",
       "       ['Riviera Beach', 'MD', '18'],\n",
       "       ['Frederick', 'MD', '2589'],\n",
       "       ['North Potomac', 'MD', '15'],\n",
       "       ['Andrews Afb', 'MD', '12'],\n",
       "       ['Colesville', 'MD', '9'],\n",
       "       ['Glenn Dale', 'MD', '39'],\n",
       "       ['Kettering', 'MD', '24'],\n",
       "       ['Brunswick', 'MD', '84'],\n",
       "       ['Fort Meade', 'MD', '108'],\n",
       "       ['Garrett Park', 'MD', '6'],\n",
       "       ['Lanham-Seabrook', 'MD', '18'],\n",
       "       ['Andrews AFB', 'MD', '6'],\n",
       "       ['Upper Marlboro', 'MD', '624'],\n",
       "       ['Curtis Bay', 'MD', '33'],\n",
       "       ['Hillandale', 'MD', '9'],\n",
       "       ['Owings', 'MD', '15'],\n",
       "       ['Beltsville', 'MD', '474'],\n",
       "       ['New Carrolltn', 'MD', '9'],\n",
       "       ['Lanham', 'MD', '426'],\n",
       "       ['Andrews Air Force Base', 'MD', '6'],\n",
       "       ['Joint Base Andrews', 'MD', '18'],\n",
       "       ['Oxon Hill-Glassmanor', 'MD', '6'],\n",
       "       ['Fort Washington', 'MD', '321'],\n",
       "       ['Montgomery', 'MD', '12'],\n",
       "       ['Langley Park', 'MD', '18'],\n",
       "       ['Landover', 'MD', '90'],\n",
       "       ['Seat Pleasant', 'MD', '15'],\n",
       "       ['Ft Washington', 'MD', '15'],\n",
       "       ['Arnold', 'MD', '141'],\n",
       "       ['Forestville', 'MD', '114'],\n",
       "       ['Oxon Hil', 'MD', '9'],\n",
       "       ['Gwynn Oak', 'MD', '278'],\n",
       "       ['Mechanicsville', 'MD', '81'],\n",
       "       ['Mount Airy', 'MD', '290'],\n",
       "       ['Riverdale', 'MD', '153'],\n",
       "       ['Owings Mills', 'MD', '931'],\n",
       "       ['Capitol Heights', 'MD', '582'],\n",
       "       ['Chevy Chase', 'MD', '215'],\n",
       "       ['Rockville', 'MD', '3971'],\n",
       "       ['Chillum', 'MD', '5'],\n",
       "       ['Mt Rainier', 'MD', '8'],\n",
       "       ['Colleg Park', 'MD', '60'],\n",
       "       ['Rosedale', 'MD', '317'],\n",
       "       ['Hyattsville', 'MD', '1223'],\n",
       "       ['Brentwood', 'MD', '51'],\n",
       "       ['Colmar Manor', 'MD', '54'],\n",
       "       ['Mount Rainier', 'MD', '68'],\n",
       "       ['Hillcrest Heights', 'MD', '18'],\n",
       "       ['Huntingtown', 'MD', '51'],\n",
       "       ['Suitland', 'MD', '322'],\n",
       "       ['Severn', 'MD', '129'],\n",
       "       ['Woodsboro', 'MD', '24'],\n",
       "       ['Bladensburg', 'MD', '183'],\n",
       "       ['Landover Hills', 'MD', '36'],\n",
       "       ['Deale', 'MD', '84'],\n",
       "       ['Orchard Beach', 'MD', '9'],\n",
       "       ['Newburg', 'MD', '54'],\n",
       "       ['Olney', 'MD', '273'],\n",
       "       ['Gambrills', 'MD', '480'],\n",
       "       ['Brandywine', 'MD', '738'],\n",
       "       ['Riverdale Park', 'MD', '51'],\n",
       "       ['Glen Echo', 'MD', '30'],\n",
       "       ['Abell', 'MD', '4'],\n",
       "       ['Montgomery County', 'MD', '6'],\n",
       "       ['Greater Landover', 'MD', '12'],\n",
       "       ['Baltimore', 'MD', '15347'],\n",
       "       ['Largo', 'MD', '105'],\n",
       "       ['Kensington', 'MD', '264'],\n",
       "       ['Waldorft', 'MD', '6'],\n",
       "       ['Fort George G Meade', 'MD', '6'],\n",
       "       ['Bradshaw', 'MD', '6'],\n",
       "       ['Bryans Rd', 'MD', '9'],\n",
       "       ['Forest Hill', 'MD', '49'],\n",
       "       ['Accokeek', 'MD', '87'],\n",
       "       ['Poolesville', 'MD', '430'],\n",
       "       ['Forest Heights', 'MD', '9'],\n",
       "       ['Burkittsville', 'MD', '6'],\n",
       "       ['Galesville', 'MD', '18'],\n",
       "       ['Calverton', 'MD', '6'],\n",
       "       ['Suitland-Silver Hill', 'MD', '33'],\n",
       "       ['Joppatowne', 'MD', '14'],\n",
       "       ['Gaithersburg', 'MD', '2696'],\n",
       "       ['camp springs', 'MD', '6'],\n",
       "       ['Point Of Rocks', 'MD', '6'],\n",
       "       ['Montgomery Village', 'MD', '159'],\n",
       "       ['District Heights', 'MD', '360'],\n",
       "       ['Parkville', 'MD', '531'],\n",
       "       ['Bel Alton', 'MD', '6'],\n",
       "       ['Riva', 'MD', '18'],\n",
       "       ['Derwood', 'MD', '111'],\n",
       "       ['Takoma Park', 'MD', '401'],\n",
       "       ['Sparks Glencoe', 'MD', '24'],\n",
       "       ['Lutherville', 'MD', '63'],\n",
       "       ['Oxon Hill', 'MD', '492'],\n",
       "       ['Carney', 'MD', '27'],\n",
       "       ['Lusby', 'MD', '117'],\n",
       "       ['White Plains', 'MD', '55'],\n",
       "       ['Saint Michaels', 'MD', '341'],\n",
       "       ['Fells Point', 'MD', '6'],\n",
       "       ['Wheaton-Glenmont', 'MD', '30'],\n",
       "       ['Mitchellville', 'MD', '57'],\n",
       "       ['Woodstock', 'MD', '36'],\n",
       "       ['Berlin', 'MD', '6'],\n",
       "       ['Monkton', 'MD', '8'],\n",
       "       ['Greenbelt', 'MD', '438'],\n",
       "       ['Adelphi', 'MD', '12'],\n",
       "       ['Broomes Island', 'MD', '15'],\n",
       "       ['Capitol Hgts', 'MD', '6'],\n",
       "       ['Walkersville', 'MD', '81'],\n",
       "       ['Davidsonville', 'MD', '27'],\n",
       "       ['Berwyn Heights', 'MD', '30'],\n",
       "       ['University Park', 'MD', '43'],\n",
       "       ['Bowie', 'MD', '852'],\n",
       "       ['Cobb Island', 'MD', '36'],\n",
       "       ['Solomons Island', 'MD', '12'],\n",
       "       ['Potomac', 'MD', '385'],\n",
       "       ['Silver Spring', 'MD', '3608'],\n",
       "       ['Milford Mill', 'MD', '66'],\n",
       "       ['Marriottsville', 'MD', '39'],\n",
       "       ['Leonardtown', 'MD', '164'],\n",
       "       ['Laurel', 'MD', '1416'],\n",
       "       ['Joint Base Andrews Naval Air Facility', 'MD', '12'],\n",
       "       ['Annapolis', 'MD', '2142'],\n",
       "       ['Bryans Road, Charles', 'MD', '9'],\n",
       "       ['Perryhall', 'MD', '6'],\n",
       "       ['Finksburg', 'MD', '60'],\n",
       "       ['Morningside', 'MD', '12'],\n",
       "       ['BWI Airport', 'MD', '6'],\n",
       "       ['Clinton', 'MD', '450'],\n",
       "       ['Owing mills', 'MD', '6'],\n",
       "       ['Windsor Mill', 'MD', '295'],\n",
       "       ['Dowell', 'MD', '18'],\n",
       "       ['Pikesville', 'MD', '407'],\n",
       "       ['Marlow Heights', 'MD', '51'],\n",
       "       ['Whitemarsh', 'MD', '6'],\n",
       "       ['Eldersburg', 'MD', '246'],\n",
       "       ['Glyndon', 'MD', '36'],\n",
       "       ['Brooklyn', 'MD', '162'],\n",
       "       ['Severna Park', 'MD', '453'],\n",
       "       ['Churchton', 'MD', '6'],\n",
       "       ['Spencerville', 'MD', '6'],\n",
       "       ['Arbutus', 'MD', '81'],\n",
       "       ['New Carrollton', 'MD', '102'],\n",
       "       ['Libertytown', 'MD', '9'],\n",
       "       ['Harford', 'MD', '2'],\n",
       "       ['Boonsboro', 'MD', '50'],\n",
       "       ['Perry Hall', 'MD', '126'],\n",
       "       ['Sunderland', 'MD', '18'],\n",
       "       ['Phoenix', 'MD', '36'],\n",
       "       ['Tracys Landing', 'MD', '6'],\n",
       "       ['Cabin John', 'MD', '33'],\n",
       "       ['White Oak', 'MD', '6'],\n",
       "       ['Seabrook', 'MD', '15'],\n",
       "       ['College Park', 'MD', '807'],\n",
       "       ['Camp Springs', 'MD', '21'],\n",
       "       ['Clarksburg', 'MD', '607'],\n",
       "       ['Bethesda', 'MD', '2393'],\n",
       "       ['Woodbine', 'MD', '69'],\n",
       "       ['Nottingham', 'MD', '522'],\n",
       "       ['Hanover', 'MD', '726'],\n",
       "       ['Ashton', 'MD', '24'],\n",
       "       ['Savage-Guilford', 'MD', '18'],\n",
       "       ['Clarksville', 'MD', '134'],\n",
       "       ['Andrew AFB', 'MD', '6'],\n",
       "       ['Highland', 'MD', '18'],\n",
       "       ['Glenarden', 'MD', '66'],\n",
       "       ['North Bethesda', 'MD', '262'],\n",
       "       ['Woodlawn', 'MD', '144'],\n",
       "       ['Cheverly', 'MD', '51'],\n",
       "       ['Pomfret', 'MD', '4'],\n",
       "       ['Overlea', 'MD', '9'],\n",
       "       ['Aspen Hill', 'MD', '69'],\n",
       "       ['Crofton', 'MD', '416'],\n",
       "       ['Fairmount Heights', 'MD', '21'],\n",
       "       ['West River', 'MD', '6'],\n",
       "       ['Brooklyn Park', 'MD', '30'],\n",
       "       ['Scaggsville', 'MD', '6'],\n",
       "       ['Catonsville', 'MD', '754'],\n",
       "       ['Harwood', 'MD', '15'],\n",
       "       ['kensington', 'MD', '9'],\n",
       "       ['Ijamsville', 'MD', '36'],\n",
       "       ['Hunt Valley', 'MD', '147'],\n",
       "       ['Boyds', 'MD', '63'],\n",
       "       ['Urbana', 'MD', '36'],\n",
       "       ['Rossville', 'MD', '9'],\n",
       "       ['Edgewood', 'MD', '21'],\n",
       "       ['Ellicott City', 'MD', '1134'],\n",
       "       ['Ashton-Sandy Spring', 'MD', '9'],\n",
       "       ['Prince Frederick', 'MD', '330'],\n",
       "       ['Lothian', 'MD', '45'],\n",
       "       ['Jefferson', 'MD', '35']], dtype='<U37')"
      ]
     },
     "execution_count": 47,
     "metadata": {},
     "output_type": "execute_result"
    }
   ],
   "source": [
    "city_count[city_count[:,1]=='MD']"
   ]
  },
  {
   "cell_type": "code",
   "execution_count": 54,
   "metadata": {},
   "outputs": [
    {
     "data": {
      "text/plain": [
       "<zip at 0x11465c0c8>"
      ]
     },
     "execution_count": 54,
     "metadata": {},
     "output_type": "execute_result"
    }
   ],
   "source": [
    "zip(np.arange(0,len(city_count),1), city_count[:,1])"
   ]
  },
  {
   "cell_type": "code",
   "execution_count": 53,
   "metadata": {},
   "outputs": [
    {
     "data": {
      "text/plain": [
       "array([   0,    1,    2, ..., 1699, 1700, 1701])"
      ]
     },
     "execution_count": 53,
     "metadata": {},
     "output_type": "execute_result"
    }
   ],
   "source": [
    "np.arange(0,len(city_count),1)"
   ]
  },
  {
   "cell_type": "code",
   "execution_count": 64,
   "metadata": {},
   "outputs": [
    {
     "ename": "ValueError",
     "evalue": "all the input array dimensions except for the concatenation axis must match exactly",
     "output_type": "error",
     "traceback": [
      "\u001b[0;31m---------------------------------------------------------------------------\u001b[0m",
      "\u001b[0;31mValueError\u001b[0m                                Traceback (most recent call last)",
      "\u001b[0;32m<ipython-input-64-aad2f125615d>\u001b[0m in \u001b[0;36m<module>\u001b[0;34m()\u001b[0m\n\u001b[0;32m----> 1\u001b[0;31m \u001b[0mnp\u001b[0m\u001b[0;34m.\u001b[0m\u001b[0mvstack\u001b[0m\u001b[0;34m(\u001b[0m\u001b[0;34m[\u001b[0m\u001b[0mnp\u001b[0m\u001b[0;34m.\u001b[0m\u001b[0marange\u001b[0m\u001b[0;34m(\u001b[0m\u001b[0;36m0\u001b[0m\u001b[0;34m,\u001b[0m\u001b[0mlen\u001b[0m\u001b[0;34m(\u001b[0m\u001b[0mcity_count\u001b[0m\u001b[0;34m)\u001b[0m\u001b[0;34m,\u001b[0m\u001b[0;36m1\u001b[0m\u001b[0;34m)\u001b[0m\u001b[0;34m,\u001b[0m \u001b[0mcity_count\u001b[0m\u001b[0;34m]\u001b[0m\u001b[0;34m)\u001b[0m\u001b[0;34m\u001b[0m\u001b[0m\n\u001b[0m",
      "\u001b[0;32m/anaconda3/lib/python3.6/site-packages/numpy/core/shape_base.py\u001b[0m in \u001b[0;36mvstack\u001b[0;34m(tup)\u001b[0m\n\u001b[1;32m    232\u001b[0m \u001b[0;34m\u001b[0m\u001b[0m\n\u001b[1;32m    233\u001b[0m     \"\"\"\n\u001b[0;32m--> 234\u001b[0;31m     \u001b[0;32mreturn\u001b[0m \u001b[0m_nx\u001b[0m\u001b[0;34m.\u001b[0m\u001b[0mconcatenate\u001b[0m\u001b[0;34m(\u001b[0m\u001b[0;34m[\u001b[0m\u001b[0matleast_2d\u001b[0m\u001b[0;34m(\u001b[0m\u001b[0m_m\u001b[0m\u001b[0;34m)\u001b[0m \u001b[0;32mfor\u001b[0m \u001b[0m_m\u001b[0m \u001b[0;32min\u001b[0m \u001b[0mtup\u001b[0m\u001b[0;34m]\u001b[0m\u001b[0;34m,\u001b[0m \u001b[0;36m0\u001b[0m\u001b[0;34m)\u001b[0m\u001b[0;34m\u001b[0m\u001b[0m\n\u001b[0m\u001b[1;32m    235\u001b[0m \u001b[0;34m\u001b[0m\u001b[0m\n\u001b[1;32m    236\u001b[0m \u001b[0;32mdef\u001b[0m \u001b[0mhstack\u001b[0m\u001b[0;34m(\u001b[0m\u001b[0mtup\u001b[0m\u001b[0;34m)\u001b[0m\u001b[0;34m:\u001b[0m\u001b[0;34m\u001b[0m\u001b[0m\n",
      "\u001b[0;31mValueError\u001b[0m: all the input array dimensions except for the concatenation axis must match exactly"
     ]
    }
   ],
   "source": [
    "np.vstack([np.arange(0,len(city_count),1), city_count[:,0],]).T"
   ]
  },
  {
   "cell_type": "code",
   "execution_count": null,
   "metadata": {},
   "outputs": [],
   "source": []
  }
 ],
 "metadata": {
  "kernelspec": {
   "display_name": "Python 3",
   "language": "python",
   "name": "python3"
  },
  "language_info": {
   "codemirror_mode": {
    "name": "ipython",
    "version": 3
   },
   "file_extension": ".py",
   "mimetype": "text/x-python",
   "name": "python",
   "nbconvert_exporter": "python",
   "pygments_lexer": "ipython3",
   "version": "3.6.5"
  }
 },
 "nbformat": 4,
 "nbformat_minor": 2
}
